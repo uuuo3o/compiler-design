{
 "cells": [
  {
   "cell_type": "markdown",
   "id": "aca529f4",
   "metadata": {
    "pycharm": {
     "name": "#%% md\n"
    }
   },
   "source": [
    "# 한글 오토마타\n",
    "---\n",
    "- QWERTY 자판 기준\n",
    "- 강의노트 **한글처리.pdf(슬라이드 18-19)** 참조   \n",
    "---\n",
    "All rights reserved, 2021-2023 By **Youn-Sik Hong**. 수업 목적으로만 활용 가능."
   ]
  },
  {
   "cell_type": "markdown",
   "id": "7e136759",
   "metadata": {
    "pycharm": {
     "name": "#%% md\n"
    }
   },
   "source": [
    "### get_index(): 초성, 중성, 종성 테이블에서 해당 자모의 인덱스를 찾음 "
   ]
  },
  {
   "cell_type": "code",
   "execution_count": 1,
   "id": "27e7903d",
   "metadata": {
    "pycharm": {
     "name": "#%%\n"
    }
   },
   "outputs": [],
   "source": [
    "def get_index (ch_set, ch):\n",
    "    lim = len(ch_set)\n",
    "    for i in range(lim):\n",
    "        if ch == ch_set[i]:\n",
    "            return i\n",
    "    return -1 # not found"
   ]
  },
  {
   "cell_type": "markdown",
   "id": "42d33e34",
   "metadata": {
    "pycharm": {
     "name": "#%% md\n"
    }
   },
   "source": [
    "### is_jaum(): 한글 자음인지 조사"
   ]
  },
  {
   "cell_type": "code",
   "execution_count": 2,
   "id": "8008cfee",
   "metadata": {
    "pycharm": {
     "name": "#%%\n"
    }
   },
   "outputs": [],
   "source": [
    "def is_jaum(ch):\n",
    "    if 'ㅏ' <= ch <= 'ㅣ':\n",
    "        return False\n",
    "    return True "
   ]
  },
  {
   "cell_type": "markdown",
   "id": "cf246e29",
   "metadata": {
    "pycharm": {
     "name": "#%% md\n"
    }
   },
   "source": [
    "초성, 중성 및 종성 문자열"
   ]
  },
  {
   "cell_type": "code",
   "execution_count": 3,
   "id": "21e44065",
   "metadata": {
    "pycharm": {
     "name": "#%%\n"
    }
   },
   "outputs": [],
   "source": [
    "uni_choSung = \"ㄱㄲㄴㄷㄸㄹㅁㅂㅃㅅㅆㅇㅈㅉㅊㅋㅌㅍㅎ\"\n",
    "uni_joongSung =\"ㅏㅐㅑㅒㅓㅔㅕㅖㅗㅘㅙㅚㅛㅜㅝㅞㅟㅠㅡㅢㅣ\"\n",
    "uni_jongSung = \" ㄱㄲㄳㄴㄵㄶㄷㄹㄺㄻㄼㄽㄾㄿㅀㅁㅂㅄㅅㅆㅇㅈㅊㅋㅌㅍㅎ\""
   ]
  },
  {
   "cell_type": "markdown",
   "id": "f55d7c46",
   "metadata": {
    "pycharm": {
     "name": "#%% md\n"
    }
   },
   "source": [
    "### make_han_syllable(): 유니코드 한글 음절(syllable) 생성"
   ]
  },
  {
   "cell_type": "code",
   "execution_count": 4,
   "id": "4c4cc397",
   "metadata": {
    "pycharm": {
     "name": "#%%\n"
    }
   },
   "outputs": [],
   "source": [
    "def make_han_syllable(cho, joong, jong):\n",
    "    i = j = k = 0\n",
    "    i = get_index(uni_choSung, cho) \n",
    "    j = get_index(uni_joongSung, joong) \n",
    "    k = get_index(uni_jongSung, jong)\n",
    "    return chr(i*21*28 + j*28 + k + 44032)"
   ]
  },
  {
   "cell_type": "markdown",
   "id": "99cdf9aa",
   "metadata": {
    "pycharm": {
     "name": "#%% md\n"
    }
   },
   "source": [
    "### combine_jj() : 2개의 자음을 결합한 겹자음 생성 "
   ]
  },
  {
   "cell_type": "code",
   "execution_count": 5,
   "id": "7e05eafd",
   "metadata": {
    "pycharm": {
     "name": "#%%\n"
    }
   },
   "outputs": [],
   "source": [
    "def combine_jj(ja1, ja2):\n",
    "    null_char = ' '\n",
    "        \n",
    "    if ja1 == 'ㄱ' :\n",
    "        if ja2 == 'ㄱ': return 'ㄲ'\n",
    "        if ja2 == 'ㅅ': return 'ㄳ'\n",
    "        return null_char\n",
    "        \n",
    "    elif ja1 == 'ㄴ' :\n",
    "        if ja2 == 'ㅈ': return 'ㄵ'\n",
    "        if ja2 == 'ㅎ': return 'ㄶ'\n",
    "        return null_char\n",
    "\n",
    "    elif ja1 == 'ㄹ':\n",
    "        if ja2 == 'ㄱ': return 'ㄺ'\n",
    "        if ja2 == 'ㅁ': return 'ㄻ'\n",
    "        if ja2 == 'ㅂ': return 'ㄼ'\n",
    "        if ja2 == 'ㅅ': return 'ㄽ'\n",
    "        if ja2 == 'ㅌ': return 'ㄾ'\n",
    "        if ja2 == 'ㅍ': return 'ㄿ'\n",
    "        if ja2 == 'ㅎ': return 'ㅀ'\n",
    "        return null_char\n",
    "\n",
    "    elif ja1 == 'ㅂ':\n",
    "        if ja2 == 'ㅅ': return 'ㅄ'\n",
    "        return null_char\n",
    "\n",
    "    elif ja1 == 'ㅅ':\n",
    "        if ja2 == 'ㅅ': return 'ㅆ'\n",
    "        return null_char\n",
    "\n",
    "    return null_char"
   ]
  },
  {
   "cell_type": "markdown",
   "id": "b67a3446",
   "metadata": {
    "pycharm": {
     "name": "#%% md\n"
    }
   },
   "source": [
    "### combine_mm() : 2개의 모음을 결합한 복모음 생성 "
   ]
  },
  {
   "cell_type": "code",
   "execution_count": 6,
   "id": "147dcb37",
   "metadata": {
    "pycharm": {
     "name": "#%%\n"
    }
   },
   "outputs": [],
   "source": [
    "def combine_mm(self, mo1, mo2) :\n",
    "    null_char = ' '\n",
    "        \n",
    "    if mo1 == 'ㅗ' :\n",
    "        if mo2 == 'ㅏ': return 'ㅘ'\n",
    "        if mo2 == 'ㅐ': return 'ㅙ'\n",
    "        if mo2 == 'ㅣ': return 'ㅚ'\n",
    "        return null_char\n",
    "\n",
    "    if mo1 == 'ㅜ':\n",
    "        if mo2 == 'ㅓ': return 'ㅝ'\n",
    "        if mo2 == 'ㅔ': return 'ㅞ'\n",
    "        if mo2 == 'ㅣ': return 'ㅟ'\n",
    "        return null_char\n",
    "\n",
    "    if mo1 == 'ㅡ':\n",
    "        if mo2 == 'ㅣ': return 'ㅢ'\n",
    "        return null_char\n",
    "\n",
    "    return null_char"
   ]
  },
  {
   "cell_type": "markdown",
   "id": "99b78f19",
   "metadata": {
    "pycharm": {
     "name": "#%% md\n"
    }
   },
   "source": [
    "## HangleAutomata: 한글 오토마타 \n",
    "- 코드 안에 주석을 참고하세요\n",
    "- 강의노트 **한글처리.pdf(슬라이드 18-19)** 참조 "
   ]
  },
  {
   "cell_type": "code",
   "execution_count": 7,
   "id": "de26d2cc",
   "metadata": {
    "pycharm": {
     "name": "#%%\n"
    }
   },
   "outputs": [],
   "source": [
    "class HangleAutomata:\n",
    "    def __init__(self, in_str):\n",
    "        self.in_str = in_str\n",
    "        self.out_str = []\n",
    "        self.prev_ch = ' '  \n",
    "        self.chosung = ' '\n",
    "        self.joosung = ' '\n",
    "        self.jongsung = ' '\n",
    "        self.han_syllable = ' ' # 현재 받침이 다음 음절의 초성으로 분리되는 경우를 위해\n",
    "                                # 이전에 완성된 한글 음절을 저장\n",
    "        self.state = 0          # 상태 변수. 초기 상태\n",
    "\n",
    "    def process(self):\n",
    "        lim = len(self.in_str)\n",
    "        #print(self.state)\n",
    "        for i in range(lim):\n",
    "            ch = self.in_str[i]\n",
    "            self.stateTransition(ch)\n",
    "            #print(self.state)\n",
    "            \n",
    "        self.out_str.append(self.han_syllable)\n",
    "        return self.out_str\n",
    "            \n",
    "        \n",
    "    def stateTransition(self, ch) :\n",
    "        if self.state == 0: # 초기 상태\n",
    "            if is_jaum(ch) == True: # 첫 번째 문자가 자음(초성) : 다음 상태 1\n",
    "                self.prev_ch = ch\n",
    "                self.state = 1\n",
    "                \n",
    "            else : # 첫 번째 문자가 모음 : 상태 천이 없이 시작 상태에 머뭄. \n",
    "                self.out_str.append(ch) # 입력한 모음을 그대로 출력.\n",
    "                self.prev_ch = ' '\n",
    "                self.state = 0\n",
    "\n",
    "        elif self.state == 1: # 상태 1\n",
    "            if is_jaum(ch) == True: # 자음을 또 입력. 초성은 겹자음만 허용(ㄲ, ㅆ, ...).                                                        \n",
    "                self.out_str.append(prev_ch) # 이전 입력한 자음은 그대로 출력.\n",
    "                self.prev_ch = ch   # 새로 입력된 자음을 저장.  \n",
    "                self.state = 1      # 한개의 자음이 입력된 상태 1에 그대로 머뭄.\n",
    "                \n",
    "            else: # 모음 입력. [초성+중성] 꼴 구성. 상태 2로 이동.\n",
    "                self.chosung = self.prev_ch \n",
    "                self.joongsung = ch \n",
    "                self.han_syllable = make_han_syllable(self.chosung, self.joongsung, ' ')\n",
    "                self.prev_ch = ch\n",
    "                self.state = 2\n",
    "\n",
    "        elif self.state == 2: # 상태 2\n",
    "            if is_jaum(ch) == True: # 자음 입력. 초성+중성+종성 꼴 구성. 상태 4로 이동.\n",
    "                self.jongsung = ch \n",
    "                self.han_syllable = make_han_syllable(self.chosung, self.joongsung, self.jongsung)                \n",
    "                self.prev_ch = ch\n",
    "                self.state = 4\n",
    "                \n",
    "            else: # 모음 입력. 중성으로 겹모음이 입력됨. 상태 3으로 이동.\n",
    "                # 2개의 모음을 결합해 한개의 겹모음 생성. \n",
    "                self.joongsung = combine_mm(self.prev_ch, ch) \n",
    "                self.han_syllable = make_han_syllable(self.chosung, self.joongsung, ' ')\n",
    "                self.prev_ch = ch\n",
    "                self.state = 3\n",
    "\n",
    "        elif self.state == 3: # 상태 3\n",
    "            if is_jaum(ch) == True: # 종성 자음. 초성+중성+종성 꼴 구성. 상태 5로 이동.\n",
    "                self.jongsung = ch \n",
    "                self.han_syllable = make_han_syllable(self.chosung, self.joongsung, self.jongsung)\n",
    "                self.prev_ch = ch\n",
    "                self.state = 5\n",
    "                \n",
    "            else: \n",
    "                self.out_str.append(self.han_syllable)\n",
    "                # unexpected char. 한글 음절을 구성할 수 없음. \n",
    "                self.out_str.append(ch)\n",
    "                # 초기 상태로 되돌아감.\n",
    "                self.state = 0\n",
    "\n",
    "        elif self.state == 4: # 상태 4\n",
    "            if is_jaum(ch) == True: \n",
    "                # 종성 자음이 또 입력되었지만, 구성 가능한 겹받침 조합이 아님. \n",
    "                # 현재 입력된 자음은 다음 음절의 초성으로 사용. 상태 1로 이동.\n",
    "                if combine_jj(self.prev_ch, ch) == ' ':\n",
    "                    self.out_str.append(self.han_syllable)\n",
    "                    self.prev_ch = ch\n",
    "                    self.state = 1\n",
    "                    \n",
    "                else:\n",
    "                    # 종성 자음이 또 입력되었으며, 겹받침 중 하나. 상태 5로 이동.\n",
    "                    self.jongsung = combine_jj(self.prev_ch, ch) \n",
    "                    self.han_syllable = make_han_syllable(self.chosung, self.joongsung, self.jongsung)\n",
    "                    self.prev_ch = ch\n",
    "                    self.state = 5\n",
    "\n",
    "            else:\n",
    "                # 모음 입력. 기존 음절의 받침으로 사용된 자음은 \n",
    "                # 다음 음절의 초성으로 분리.\n",
    "                self.han_syllable = make_han_syllable(self.chosung, self.joongsung, ' ')\n",
    "                self.out_str.append(self.han_syllable)\n",
    "                \n",
    "                self.chosung = self.prev_ch \n",
    "                self.joongsung = ch \n",
    "                self.han_syllable = make_han_syllable(self.chosung, self.joongsung, ' ')\n",
    "                self.prev_ch = ch\n",
    "                # 다음 상태는 자음+모음 꼴이 구성된 상태 2.\n",
    "                self.state = 2\n",
    "\n",
    "        elif self.state == 5: # 상태 5\n",
    "            if is_jaum(ch) == True: \n",
    "                self.out_str.append(self.han_syllable)\n",
    "                 # 자음 입력. 새로운 한글 음절의 초성임. 상태 1로 이동. \n",
    "                self.prev_ch = ch\n",
    "                self.state = 1\n",
    "                \n",
    "            else:\n",
    "                # 모음 입력. 기존 음절의 받침으로 사용된 자음은 \n",
    "                # 다음 음절의 초성으로 분리.\n",
    "                self.out_str.append(self.han_syllable)\n",
    "                self.chosung = self.prev_ch \n",
    "                self.joongsung = ch \n",
    "                self.han_syllable = make_han_syllable(self.chosung, self.joongsung, ' ')\n",
    "                \n",
    "                # 다음 상태는 자음+모음 꼴이 구성된 상태 2.\n",
    "                self.prev_ch = ch\n",
    "                self.state = 2\n",
    "\n",
    "        elif self.state == 6: # 상태 6\n",
    "            if is_jaum(ch) == True: \n",
    "                self.out_str.append(self.han_syllable)\n",
    "                 # 자음 입력. 새로운 한글 음절의 초성임. 상태 1로 이동. \n",
    "                self.prev_ch = ch\n",
    "                self.state = 1   \n",
    "                \n",
    "            else: \n",
    "                # 모음 입력. 기존 음절의 받침으로 사용된 자음은 \n",
    "                # 다음 음절의 초성으로 분리.\n",
    "                # 다음 상태는 자음+모음 꼴이 구성된 상태 2.\n",
    "                self.out_str.append(self.han_syllable)\n",
    "                self.chosung = self.prev_ch \n",
    "                self.joongsung = ch \n",
    "                self.han_syllable = make_han_syllable(self.chosung, self.joongsung, ' ')\n",
    "                \n",
    "                self.prev_ch = ch\n",
    "                self.state = 2"
   ]
  },
  {
   "cell_type": "markdown",
   "id": "5301ecc7",
   "metadata": {
    "pycharm": {
     "name": "#%% md\n"
    }
   },
   "source": [
    "- 테스트를 하려면, 아래 예처럼 한글을 자모 분리해서 문자열을 만들어 입력해야 합니다.\n",
    "- 실제 키보드롤 입력할 때 입력 방식과 같지만, \n",
    "    - 최대한 간단히 구현하기 위해 \n",
    "        - 한글 자모만 입력했다고 가정하였으며,\n",
    "        - 한글 외에 영문자를 한글로 바꾸는 등의 처리는 하지 않았습니다."
   ]
  },
  {
   "cell_type": "code",
   "execution_count": 8,
   "id": "9dba6236",
   "metadata": {
    "pycharm": {
     "name": "#%%\n"
    }
   },
   "outputs": [
    {
     "data": {
      "text/plain": "['하', '늘']"
     },
     "execution_count": 8,
     "metadata": {},
     "output_type": "execute_result"
    }
   ],
   "source": [
    "h = HangleAutomata('ㅎㅏㄴㅡㄹ')\n",
    "h.process()"
   ]
  },
  {
   "cell_type": "code",
   "execution_count": 9,
   "id": "09200436",
   "metadata": {
    "pycharm": {
     "name": "#%%\n"
    }
   },
   "outputs": [
    {
     "data": {
      "text/plain": "['어', '제', '아', '침']"
     },
     "execution_count": 9,
     "metadata": {},
     "output_type": "execute_result"
    }
   ],
   "source": [
    "h = HangleAutomata('ㅇㅓㅈㅔㅇㅏㅊㅣㅁ')\n",
    "h.process()"
   ]
  },
  {
   "cell_type": "code",
   "execution_count": 10,
   "id": "9bfd527f",
   "metadata": {
    "pycharm": {
     "name": "#%%\n"
    }
   },
   "outputs": [
    {
     "data": {
      "text/plain": "['값', '이', '비', '싸', '다']"
     },
     "execution_count": 10,
     "metadata": {},
     "output_type": "execute_result"
    }
   ],
   "source": [
    "h = HangleAutomata('ㄱㅏㅂㅅㅇㅣㅂㅣㅆㅏㄷㅏ')\n",
    "h.process()"
   ]
  },
  {
   "cell_type": "code",
   "execution_count": 11,
   "id": "ece8a5d5",
   "metadata": {
    "pycharm": {
     "name": "#%%\n"
    }
   },
   "outputs": [
    {
     "data": {
      "text/plain": "['길', '을', '따', '라', '걷', '다']"
     },
     "execution_count": 11,
     "metadata": {},
     "output_type": "execute_result"
    }
   ],
   "source": [
    "h = HangleAutomata('ㄱㅣㄹㅇㅡㄹㄸㅏㄹㅏㄱㅓㄷㄷㅏ')\n",
    "h.process()"
   ]
  }
 ],
 "metadata": {
  "kernelspec": {
   "display_name": "Python 3 (ipykernel)",
   "language": "python",
   "name": "python3"
  },
  "language_info": {
   "codemirror_mode": {
    "name": "ipython",
    "version": 3
   },
   "file_extension": ".py",
   "mimetype": "text/x-python",
   "name": "python",
   "nbconvert_exporter": "python",
   "pygments_lexer": "ipython3",
   "version": "3.9.7"
  }
 },
 "nbformat": 4,
 "nbformat_minor": 5
}