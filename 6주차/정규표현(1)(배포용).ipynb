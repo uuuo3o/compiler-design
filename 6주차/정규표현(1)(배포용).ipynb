{
 "cells": [
  {
   "cell_type": "markdown",
   "metadata": {
    "pycharm": {
     "name": "#%% md\n"
    }
   },
   "source": [
    "# 파이썬 정규표현(1)\n",
    "---\n",
    "All rights reserved, 2021-2023 By Youn-Sik Hong. 수업 목적으로만 활용 가능"
   ]
  },
  {
   "cell_type": "markdown",
   "metadata": {
    "pycharm": {
     "name": "#%% md\n"
    }
   },
   "source": [
    "- 정규표현(regular expression)은 메타 기호(meta symbol)들을 사용하여 패턴을 정의합니다. \n",
    "    - 찾고 싶은 문자열의 특징(즉 패턴)을 메타 기호를 사용해 정규표현으로 나타냅니다. \n",
    "    - 내부적으로 정규표현은 유한오토마타로 변환되어 코드로 구현됩니다. \n",
    "        - 정규표현을 유한오토마타로 변환하고, \n",
    "        - 유한오토마타를 특정 프로그래밍 언어로 변환하는 과정은 \n",
    "        - 완벽한 도구(예, flex, javaCC 등)가 마련되어 있습니다. \n",
    "---        \n",
    "- 기억해야 할 것은 정규표현만으로 원하는 모든 패턴을 다 찾지 못한다는 점입니다. \n",
    "    - 정규표현은 단어(토큰) 패턴을 정의하고 단어를 찾는 데에만 유용합니다. \n",
    "    - 더 복잡한 형태의 패턴은 문맥무관문법(context free grammar)으로 나타낼 수 있습니다.\n",
    "        - Chomsky 분류가 등장하게 된 이유이기도 합니다."
   ]
  },
  {
   "cell_type": "markdown",
   "metadata": {
    "pycharm": {
     "name": "#%% md\n"
    }
   },
   "source": [
    "### 참고 사이트 \n",
    "- handout sheet가 어렵다고 느끼거나 자세한 설명이 필요한 학생들은 아래 사이트를 참고하세요.\n",
    "    - https://wikidocs.net/4308 (점프 투 파이썬, 저자 박 응용, 7장 정규표현식)\n",
    "---    \n",
    "- 파이썬 re 모듈에 관한 튜토리얼\n",
    "    -https://docs.python.org/3/howto/regex.html#regex-howto\n",
    "- 파이썬 re 라이브러리(메타심볼, 상수, 메소드 등) 상세 설명\n",
    "    - https://docs.python.org/3/library/re.html#module-re"
   ]
  },
  {
   "cell_type": "markdown",
   "metadata": {
    "pycharm": {
     "name": "#%% md\n"
    }
   },
   "source": [
    "## 학습 내용\n",
    "1. pattern 객체\n",
    "2. pattern.match()\n",
    "3. re.match()\n",
    "4. match 객체\n",
    "5. re.search()\n",
    "6. re.findall()\n",
    "7. re.finditer()"
   ]
  },
  {
   "cell_type": "markdown",
   "metadata": {
    "pycharm": {
     "name": "#%% md\n"
    }
   },
   "source": [
    "제일 먼저 해야 할 일은 re 모듈을 가져오는(import) 것입니다. \n",
    "- 정규표현을 사용할 때 3개의 객체를 기억합시다. \n",
    "- re 모듈 객체, pattern 객체 및 match 객체입니다. "
   ]
  },
  {
   "cell_type": "code",
   "execution_count": 1,
   "metadata": {
    "pycharm": {
     "name": "#%%\n"
    }
   },
   "outputs": [],
   "source": [
    "import re "
   ]
  },
  {
   "cell_type": "markdown",
   "metadata": {
    "pycharm": {
     "name": "#%% md\n"
    }
   },
   "source": [
    "## 1. pattern 객체 \n",
    "- 찾고자 하는 문자열의 특징을 정규표현을 사용하여 패턴으로 정의하고, \n",
    "    - 이 패턴을 사용하여 문자열을 찾는 방법은 2가지가 있습니다. \n",
    "- 첫 번째 방법은 패턴 객체를 생성하고, \n",
    "    - 패턴 객체의 **match()**, **search()** 를 사용하여 문자열(token)을 찾는 것입니다."
   ]
  },
  {
   "cell_type": "markdown",
   "metadata": {
    "pycharm": {
     "name": "#%% md\n"
    }
   },
   "source": [
    "- 패턴 객체 생성: **re.compile(pattern, flags=0)**. \n",
    "    - *flags*: **re.IGNORECASE, re.DEBUG** 처럼 re 모듈에서 미리 정의해 놓은 상수. \n",
    "    - 여러 개 상수를 정의하려면 '|'(vertical bar)를 사용."
   ]
  },
  {
   "cell_type": "markdown",
   "metadata": {
    "pycharm": {
     "name": "#%% md\n"
    }
   },
   "source": [
    "패턴 객체 p가 찾으려는 패턴은 'python'"
   ]
  },
  {
   "cell_type": "code",
   "execution_count": 2,
   "metadata": {
    "pycharm": {
     "name": "#%%\n"
    }
   },
   "outputs": [
    {
     "data": {
      "text/plain": "re.compile(r'python', re.UNICODE)"
     },
     "execution_count": 2,
     "metadata": {},
     "output_type": "execute_result"
    }
   ],
   "source": [
    "p = re.compile('python') \n",
    "p "
   ]
  },
  {
   "cell_type": "markdown",
   "metadata": {
    "pycharm": {
     "name": "#%% md\n"
    }
   },
   "source": [
    "## 2. pattern.match(string[, pos[, endpos]]) \n",
    "- **pos**는 탐색 시작 위치이며, **endpos**는 탐색 끝 위치. \n",
    "    - 실제 탐색은 *endpos-1*에서 끝남. \n",
    "- **p.match()** 와 같이 패턴 객체 p의 메소드 match() 호출. \n",
    "    - **문자열의 첫 번째 문자가 패턴의 첫 번째 문자와 일치** 해야 함. \n",
    "    - 패턴과 일치하는 문자열을 찾으면 시작위치, 끝위치(span=(0,6)) 등 정보를 출력. \n",
    "    - 해당되는 패턴을 못찾으면 None을 출력."
   ]
  },
  {
   "cell_type": "code",
   "execution_count": 3,
   "metadata": {
    "pycharm": {
     "name": "#%%\n"
    }
   },
   "outputs": [
    {
     "name": "stdout",
     "output_type": "stream",
     "text": [
      "<re.Match object; span=(0, 6), match='python'>\n"
     ]
    }
   ],
   "source": [
    "print(p.match(\"python!!\"))"
   ]
  },
  {
   "cell_type": "markdown",
   "metadata": {
    "pycharm": {
     "name": "#%% md\n"
    }
   },
   "source": [
    "아래는 왜 못찾았을까요?"
   ]
  },
  {
   "cell_type": "code",
   "execution_count": 4,
   "metadata": {
    "pycharm": {
     "name": "#%%\n"
    }
   },
   "outputs": [
    {
     "name": "stdout",
     "output_type": "stream",
     "text": [
      "None\n"
     ]
    }
   ],
   "source": [
    "print(p.match(\" python!!\"))"
   ]
  },
  {
   "cell_type": "markdown",
   "metadata": {
    "pycharm": {
     "name": "#%% md\n"
    }
   },
   "source": [
    "#### 아래 예 중 패턴을 찾는 문장은 무엇일까요?"
   ]
  },
  {
   "cell_type": "code",
   "execution_count": 5,
   "metadata": {
    "pycharm": {
     "name": "#%%\n"
    }
   },
   "outputs": [
    {
     "name": "stdout",
     "output_type": "stream",
     "text": [
      "None\n",
      "<re.Match object; span=(7, 13), match='python'>\n",
      "None\n"
     ]
    }
   ],
   "source": [
    "print(p.match(\"Hello, python!!\"))\n",
    "print(p.match(\"Hello, python!!\", 7))\n",
    "print(p.match(\"Hello, python!!\", 6))"
   ]
  },
  {
   "cell_type": "markdown",
   "metadata": {
    "pycharm": {
     "name": "#%% md\n"
    }
   },
   "source": [
    "**compile()** 메소드의 2번째 파라미터 *flags* 옵션을 지정하고 테스트 해 봅시다."
   ]
  },
  {
   "cell_type": "code",
   "execution_count": 6,
   "metadata": {
    "pycharm": {
     "name": "#%%\n"
    }
   },
   "outputs": [
    {
     "name": "stdout",
     "output_type": "stream",
     "text": [
      "<re.Match object; span=(0, 6), match='Python'>\n"
     ]
    }
   ],
   "source": [
    "p = re.compile('python', re.IGNORECASE)\n",
    "print(p.match(\"Python!!\"))"
   ]
  },
  {
   "cell_type": "markdown",
   "metadata": {
    "pycharm": {
     "name": "#%% md\n"
    }
   },
   "source": [
    "**두 번째 방법**: 패턴 객체를 생성하지 않고, **re** 모듈의 **match()** 메소드를 직접 호출하는 것입니다. "
   ]
  },
  {
   "cell_type": "markdown",
   "metadata": {
    "pycharm": {
     "name": "#%% md\n"
    }
   },
   "source": [
    "## 3. re.match(pattern, string, flags=0)\n",
    "- 패턴(pattern)과 문자열(string)을 함께 파라미터로 포함.\n",
    "    - pattern과 string 구분을 위해 pattern 앞에 r을 붙임(생략 가능).\n",
    "- *match* 객체를 리턴.\n",
    "- 마지막 파라미터 *flags*는 앞에서 설명한 것처럼 re 모듈에서 정의한 상수.  "
   ]
  },
  {
   "cell_type": "code",
   "execution_count": 7,
   "metadata": {
    "pycharm": {
     "name": "#%%\n"
    }
   },
   "outputs": [
    {
     "data": {
      "text/plain": "re.Match"
     },
     "execution_count": 7,
     "metadata": {},
     "output_type": "execute_result"
    }
   ],
   "source": [
    "m = re.match(r\"python\", \"python\")  #정규표현 앞에 r을 붙임\n",
    "#m = re.match(\"python\", \"python\")  #r을 생략\n",
    "type(m)"
   ]
  },
  {
   "cell_type": "markdown",
   "metadata": {
    "pycharm": {
     "name": "#%% md\n"
    }
   },
   "source": [
    "## 4. match 객체\n",
    "- match 객체에 저장된 내용은 **group(), start(), end(), span()** 등으로 확인 \n",
    "    - **group(0)** 은 정규표현의 패턴과 일치하는 전체 문자열. \n",
    "    - 전체 문자열 중 첫번째 부분 문자열 "
   ]
  },
  {
   "cell_type": "code",
   "execution_count": 8,
   "metadata": {
    "pycharm": {
     "name": "#%%\n"
    }
   },
   "outputs": [
    {
     "name": "stdout",
     "output_type": "stream",
     "text": [
      "python python python\n"
     ]
    }
   ],
   "source": [
    "m = re.match(r\"python\", \"python\")\n",
    "\n",
    "print(m.group(), m[0], m.group(0))\n",
    "#print(m.start(0), m.end(0), m.span(0))\n",
    "#print(m.group(), m.start(), m.end(), m.span())"
   ]
  },
  {
   "cell_type": "markdown",
   "metadata": {
    "pycharm": {
     "name": "#%% md\n"
    }
   },
   "source": [
    "- 두번째, 세번째 부분 문자열을 찾고 싶으면 \n",
    "    - **group(1), group(2)** 와 같이 지정. \n",
    "- **m.group(0)** 대신 **m[0]** 처럼 인덱스를 사용해도 됨.\n",
    "    - m은 match 객체"
   ]
  },
  {
   "cell_type": "code",
   "execution_count": 9,
   "metadata": {
    "pycharm": {
     "name": "#%%\n"
    }
   },
   "outputs": [
    {
     "name": "stdout",
     "output_type": "stream",
     "text": [
      "python pyth on\n",
      "0 4 (0, 4)\n",
      "4 6 (4, 6)\n"
     ]
    }
   ],
   "source": [
    "m = re.match(r\"(pyth)(on)\", \"python\")\n",
    "\n",
    "print(m.group(), m.group(1), m.group(2))\n",
    "print(m.start(1), m.end(1), m.span(1))\n",
    "print(m.start(2), m.end(2), m.span(2))"
   ]
  },
  {
   "cell_type": "markdown",
   "metadata": {
    "pycharm": {
     "name": "#%% md\n"
    }
   },
   "source": [
    "## 5. re.search()\n",
    "- 이번에는 **search()** 메소드를 사용해 2가지 스타일로 구현해 봅시다. \n",
    "    - **match()** 와 **search()** 가 비슷할 거 같지만 엄청난 차이가 있습니다.\n",
    "    - 아래 예에서 **match()** 실행 결과는 *None*이었지만, \n",
    "        - 놀랍게도 **search()** 는 찾습니다!!!"
   ]
  },
  {
   "cell_type": "code",
   "execution_count": 10,
   "metadata": {
    "pycharm": {
     "name": "#%%\n"
    }
   },
   "outputs": [
    {
     "name": "stdout",
     "output_type": "stream",
     "text": [
      "match 메소드 적용 =  None\n",
      "search 메소드 적용 =  <re.Match object; span=(7, 13), match='python'>\n"
     ]
    }
   ],
   "source": [
    "p = re.compile('python') \n",
    "print('match 메소드 적용 = ', p.match(\"Hello, python!!\"))\n",
    "print('search 메소드 적용 = ', p.search(\"Hello, python!!\"))"
   ]
  },
  {
   "cell_type": "markdown",
   "metadata": {
    "pycharm": {
     "name": "#%% md\n"
    }
   },
   "source": [
    "- **match** 객체가 *None*인지 체크하지 않으면 runtime error가 발생합니다. \n",
    "    - 아래 코드에서 주석을 없애고 실행시켜 보세요!\n",
    "- 당연한 얘기지만, **match** 객체가 None이 아니어야 **match[0]** 과 같은 인덱싱 연산을 할 수 있기 때문이죠."
   ]
  },
  {
   "cell_type": "code",
   "execution_count": 11,
   "metadata": {
    "pycharm": {
     "name": "#%%\n"
    }
   },
   "outputs": [],
   "source": [
    "m_match = re.match(\"python\", \"Hello, python!!\")\n",
    "m_search = re.search(\"python\", \"Hello, python!!\")\n",
    "\n",
    "#print('match 메소드 적용 = ', m_match[0])"
   ]
  },
  {
   "cell_type": "markdown",
   "metadata": {
    "pycharm": {
     "name": "#%% md\n"
    }
   },
   "source": [
    "#### match() 메소드는 (문자열의) 첫 문자부터 패턴과 일치해야 하지만, search() 메소드는 문자열 어딘가에라도 있으면 찾습니다. 이것이 가장 큰 차이점입니다. \n",
    "- 위의 코드는 아래처럼 코딩해야 합니다. "
   ]
  },
  {
   "cell_type": "code",
   "execution_count": 12,
   "metadata": {
    "pycharm": {
     "name": "#%%\n"
    }
   },
   "outputs": [
    {
     "name": "stdout",
     "output_type": "stream",
     "text": [
      "run match() = Not found\n",
      "run search() =  python found\n"
     ]
    }
   ],
   "source": [
    "if m_match:\n",
    "    print('run match() = ', m_match[0], 'found')\n",
    "else:\n",
    "    print('run match() = Not found')\n",
    "\n",
    "if m_search: \n",
    "    print('run search() = ', m_search[0], 'found')\n",
    "else:\n",
    "    print('run search() = Not found')"
   ]
  },
  {
   "cell_type": "markdown",
   "metadata": {
    "pycharm": {
     "name": "#%% md\n"
    }
   },
   "source": [
    "정규표현 메타기호를 설명하기 전에 마지막으로 **findall(), finditer()** 메소드를 사용해 보면서 코딩 스타일을 복습해 봅시다."
   ]
  },
  {
   "cell_type": "markdown",
   "metadata": {
    "pycharm": {
     "name": "#%% md\n"
    }
   },
   "source": [
    "## 6. re.findall()\n",
    "- **findall()** 메소드는 **리스트** *m*을 리턴합니다. "
   ]
  },
  {
   "cell_type": "code",
   "execution_count": 13,
   "metadata": {
    "pycharm": {
     "name": "#%%\n"
    }
   },
   "outputs": [],
   "source": [
    "#python은 비단뱀과 동음이의어 입니다.\n",
    "sample_text = \"Hi, python. Do you know that python is synonymous with the meaning of python?\"\n",
    "re_pattern = \"python\""
   ]
  },
  {
   "cell_type": "code",
   "execution_count": 14,
   "metadata": {
    "pycharm": {
     "name": "#%%\n"
    }
   },
   "outputs": [
    {
     "name": "stdout",
     "output_type": "stream",
     "text": [
      "<class 'list'>\n",
      "<class 'str'> python\n",
      "<class 'str'> python\n",
      "<class 'str'> python\n"
     ]
    }
   ],
   "source": [
    "m = re.findall(re_pattern, sample_text)\n",
    "\n",
    "if m:\n",
    "    print(type(m))\n",
    "    for r in m:\n",
    "        print(type(r), r)\n",
    "else:\n",
    "    print('Not found')"
   ]
  },
  {
   "cell_type": "markdown",
   "metadata": {
    "pycharm": {
     "name": "#%% md\n"
    }
   },
   "source": [
    "## 7. re.finditer()\n",
    "- **finditer()** 메소드는 **iterator** 객체 *m2*를 리턴합니다. \n",
    "- 리스트 객체 *m*의 원소는 str 객체이지만, \n",
    "    - iterator 객체 *m2* 의 원소는 *match* 객체입니다. "
   ]
  },
  {
   "cell_type": "code",
   "execution_count": 15,
   "metadata": {
    "pycharm": {
     "name": "#%%\n"
    }
   },
   "outputs": [
    {
     "name": "stdout",
     "output_type": "stream",
     "text": [
      "<class 'callable_iterator'>\n",
      "<re.Match object; span=(4, 10), match='python'>\n"
     ]
    }
   ],
   "source": [
    "m2 = re.finditer(re_pattern, sample_text)\n",
    "print(type(m2))\n",
    "print(next(m2))    "
   ]
  },
  {
   "cell_type": "markdown",
   "metadata": {
    "pycharm": {
     "name": "#%% md\n"
    }
   },
   "source": [
    "re.finditer()가 리턴한 결과를 for 루프에서 출력하면 re.findall()과 다릅니다."
   ]
  },
  {
   "cell_type": "code",
   "execution_count": 16,
   "metadata": {
    "pycharm": {
     "name": "#%%\n"
    }
   },
   "outputs": [
    {
     "name": "stdout",
     "output_type": "stream",
     "text": [
      "<class 'callable_iterator'>\n",
      "Found \"python\" at 4:10\n",
      "Found \"python\" at 29:35\n",
      "Found \"python\" at 70:76\n"
     ]
    }
   ],
   "source": [
    "m2 = re.finditer(re_pattern, sample_text)\n",
    "if m2:    \n",
    "    print(type(m2))\n",
    "    for r2 in m2:\n",
    "        s = r2.start()\n",
    "        e = r2.end()\n",
    "        print('Found \"%s\" at %d:%d' % (sample_text[s:e], s, e))\n",
    "else:\n",
    "    print('Not found')     "
   ]
  },
  {
   "cell_type": "markdown",
   "metadata": {
    "pycharm": {
     "name": "#%% md\n"
    }
   },
   "source": [
    "- 일방적으로 **finditer()**에게 유리하게 의도적으로 코딩한 것처럼 느낄 수 있겠군요... \n",
    "    - **finditer()** 메소드 실행 결과 리스트가 아닌 *match* 객체를 리턴하기 때문이죠. \n",
    "    - *iterator* 를 잘 모르는 사람은 **iterator와 generator.ipynb** 를 참고하세요. \n",
    "- 풀 죽어 있는 **findall()** 메소드를 달래기 위해\n",
    "    - 조금 수정한 코드를 실행시켜 보는 걸로 이 실습을 마칩니다."
   ]
  },
  {
   "cell_type": "code",
   "execution_count": 17,
   "metadata": {
    "pycharm": {
     "name": "#%%\n"
    }
   },
   "outputs": [
    {
     "name": "stdout",
     "output_type": "stream",
     "text": [
      "Searching for \"python\" in \"Hi, python...\" -> Found!\n",
      "Searching for \"synonymous\" in \"Hi, python...\" -> Found!\n",
      "Searching for \"meaning\" in \"Hi, python...\" -> Found!\n",
      "Searching for \"snake\" in \"Hi, python...\" -> Not Found!\n"
     ]
    }
   ],
   "source": [
    "sample_text = \"Hi, python. Do you know that python is synonymous with the meaning of python?\"\n",
    "pattern_list = [\"python\", \"synonymous\", \"meaning\", \"snake\"]\n",
    "\n",
    "for pat in pattern_list:\n",
    "    print('Searching for \"%s\" in \"%s...\" ->' % (pat, sample_text[:10]), end=' ')\n",
    "    if re.findall(pat, sample_text):\n",
    "        print('Found!')\n",
    "    else:\n",
    "        print('Not Found!')    "
   ]
  },
  {
   "cell_type": "markdown",
   "metadata": {
    "pycharm": {
     "name": "#%% md\n"
    }
   },
   "source": [
    "제목이 정규표현인데 아직 정규표현의 '정'자도 못했습니다. 걱정마세요, 기본기를 다졌으니 이제부터 지루한 meta 기호를 사용하여 패턴을 정의하는 실습을 시작하겠습니다. meta 기호에 따라 찾는 패턴이 달라지기 때문에 meta 기호의 의미를 정확히 아는 것이 중요, 또 중요합니다."
   ]
  }
 ],
 "metadata": {
  "kernelspec": {
   "display_name": "Python 3 (ipykernel)",
   "language": "python",
   "name": "python3"
  },
  "language_info": {
   "codemirror_mode": {
    "name": "ipython",
    "version": 3
   },
   "file_extension": ".py",
   "mimetype": "text/x-python",
   "name": "python",
   "nbconvert_exporter": "python",
   "pygments_lexer": "ipython3",
   "version": "3.9.7"
  }
 },
 "nbformat": 4,
 "nbformat_minor": 2
}