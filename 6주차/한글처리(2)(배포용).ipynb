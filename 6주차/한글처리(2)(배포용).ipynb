{
 "cells": [
  {
   "cell_type": "markdown",
   "metadata": {},
   "source": [
    "# 파이썬에서 한글 처리(2) \n",
    "---\n",
    "- 한글 자모를 결합하여 음절 완성\n",
    "- 한글 음절에서 자모 분리\n",
    "---\n",
    "All rights reserved, 2021-2023 By **Youn-Sik Hong**. 수업 목적으로만 활용 가능."
   ]
  },
  {
   "cell_type": "markdown",
   "metadata": {},
   "source": [
    "- 파이썬에서는 utf-8 코드 체계를 사용    \n",
    "    - utf-8 : unicode를 완벽하게 지원하는 코드 체계.\n",
    "    - Unicode 문자코드 차트 : http://www.unicode.org/charts/\n",
    "        - 한글은 East Asian Scripts의 Hangul Jamo에서 찾으면 됨.\n",
    "- 파일을 읽어오거나 처리 결과를 파일로 저장할 때 문자열의 인코딩 방식에 맞는 변환이 필요.\n",
    "    - decode : latin-2, utf-8 등으로 인코딩한 파일\n",
    "        - 파이썬 내부로 가져올 때 unicode로 변환하는 과정.\n",
    "    - encode : 파이썬 내부에서 처리한 unicode 문자열\n",
    "        - utf-8, cp949 등으로 인코딩해서 파일로 저장하는 과정."
   ]
  },
  {
   "cell_type": "markdown",
   "metadata": {},
   "source": [
    "## 1. 한글 자모를 결합하여  음절 완성"
   ]
  },
  {
   "cell_type": "code",
   "execution_count": null,
   "metadata": {},
   "outputs": [],
   "source": [
    "# 초성: 19자\n",
    "uni_choSung = ['ㄱ', 'ㄲ', 'ㄴ', 'ㄷ', 'ㄸ', 'ㄹ', 'ㅁ', 'ㅂ', 'ㅃ', \n",
    "               'ㅅ', 'ㅆ', 'ㅇ', 'ㅈ', 'ㅉ', 'ㅊ', 'ㅋ', 'ㅌ', 'ㅍ', 'ㅎ']\n",
    "# 중성: 21자\n",
    "uni_joongSung = ['ㅏ', 'ㅐ', 'ㅑ', 'ㅒ', 'ㅓ', 'ㅔ', 'ㅕ', 'ㅖ', 'ㅗ', \n",
    "                 'ㅘ', 'ㅙ', 'ㅚ', 'ㅛ', 'ㅜ', 'ㅝ', 'ㅞ', 'ㅟ', 'ㅠ', 'ㅡ', 'ㅢ', 'ㅣ']\n",
    "# 종성: 28자(맨 앞의 공백 문자는 받침 없음)\n",
    "uni_jongSung = [' ', 'ㄱ', 'ㄲ', 'ㄳ', 'ㄴ', 'ㄵ', 'ㄶ', 'ㄷ', 'ㄹ', \n",
    "                 'ㄺ', 'ㄻ', 'ㄼ', 'ㄽ', 'ㄾ', 'ㄿ', 'ㅀ', 'ㅁ', 'ㅂ', \n",
    "                 'ㅄ', 'ㅅ', 'ㅆ', 'ㅇ', 'ㅈ', 'ㅊ', 'ㅋ', 'ㅌ', 'ㅍ', 'ㅎ']"
   ]
  },
  {
   "cell_type": "code",
   "execution_count": null,
   "metadata": {},
   "outputs": [],
   "source": [
    "# 아래처럼 간단히 작성할 수 있음.\n",
    "# uni_choSung = \"ㄱㄲㄴㄷㄸㄹㅁㅂㅃㅅㅆㅇㅈㅉㅊㅋㅌㅍㅎ\"\n",
    "# uni_joongSung =\"ㅏㅐㅑㅒㅓㅔㅕㅖㅗㅘㅙㅚㅛㅜㅝㅞㅟㅠㅡㅢㅣ\"\n",
    "# uni_jongSung = \" ㄱㄲㄳㄴㄵㄶㄷㄹㄺㄻㄼㄽㄾㄿㅀㅁㅂㅄㅅㅆㅇㅈㅊㅋㅌㅍㅎ\""
   ]
  },
  {
   "cell_type": "code",
   "execution_count": null,
   "metadata": {},
   "outputs": [],
   "source": [
    "def get_index(ch_set, ch):\n",
    "    lim = len(ch_set)\n",
    "    for i in range(lim):\n",
    "        if ch == ch_set[i]:\n",
    "            return i\n",
    "    return -1 #not found"
   ]
  },
  {
   "cell_type": "code",
   "execution_count": null,
   "metadata": {},
   "outputs": [],
   "source": [
    "def cal_uniCode10 (cho, joong, jong):\n",
    "    i = j = k = 0\n",
    "    i = get_index(uni_choSung, cho) #'초성'(cho)이 choSung 테이블에서 몇 번째 위치에 해당하는가?\n",
    "    j = get_index(uni_joongSung, joong) \n",
    "    k = get_index(uni_jongSung, jong) \n",
    "    return i*21*28 + j*28 + k + 44032"
   ]
  },
  {
   "cell_type": "code",
   "execution_count": null,
   "metadata": {},
   "outputs": [],
   "source": [
    "full_name = []\n",
    "\n",
    "#이름 첫 글자를 초,중,종성으로 분리 후 유니코드를 구함 \n",
    "#예: 홍 -> \"ㅎ','ㅗ','ㅇ'\n",
    "n_first =  cal_uniCode10('ㅎ', 'ㅗ', 'ㅇ')\n",
    "full_name.append(chr(n_first))\n",
    "\n",
    "#이름 중간 글자를 초,중,종성으로 분리 후 유니코드를 구함\n",
    "n_middle = cal_uniCode10('ㅇ', 'ㅠ', 'ㄴ')\n",
    "full_name.append(chr(n_middle))\n",
    "\n",
    "#이름 끝 글자를 초,중,종성으로 분리 후 유니코드를 구함  \n",
    "n_last = cal_uniCode10('ㅅ', 'ㅣ', 'ㄱ')\n",
    "full_name.append(chr(n_last))\n",
    "\n",
    "print(full_name)"
   ]
  },
  {
   "cell_type": "markdown",
   "metadata": {},
   "source": [
    "## 2. 한글 음절에서 자모 분리"
   ]
  },
  {
   "cell_type": "code",
   "execution_count": null,
   "metadata": {},
   "outputs": [],
   "source": [
    "def separateJamo (name):\n",
    "    result = []\n",
    "    \n",
    "    for syllable in name:\n",
    "        code = ord(syllable)\n",
    "        if code >= 44032 and code <= 55203:          \n",
    "        #if syllable >= '가' and syllable <= '힣':        \n",
    "        #if re.match('[ㄱ-ㅎㅏ-ㅣ가-힣]', syllable) is not None:\n",
    "            #code = ord(syllable) - 44032\n",
    "            code -= 44032            \n",
    "            jong = int(code % 28)\n",
    "            \n",
    "            code = int(code / 28)\n",
    "            joong = int(code % 21)\n",
    "            \n",
    "            cho = int(code / 21)\n",
    "            result.append(uni_choSung[cho])\n",
    "            result.append(uni_joongSung[joong]) \n",
    "            result.append(uni_jongSung[jong])            \n",
    "        else:\n",
    "            result.append(syllable)\n",
    "    print(result)"
   ]
  },
  {
   "cell_type": "code",
   "execution_count": null,
   "metadata": {},
   "outputs": [],
   "source": [
    "separateJamo('홍길동') #여러분 이름을 사용하세요"
   ]
  },
  {
   "cell_type": "code",
   "execution_count": null,
   "metadata": {},
   "outputs": [],
   "source": []
  }
 ],
 "metadata": {
  "kernelspec": {
   "display_name": "Python 3 (ipykernel)",
   "language": "python",
   "name": "python3"
  },
  "language_info": {
   "codemirror_mode": {
    "name": "ipython",
    "version": 3
   },
   "file_extension": ".py",
   "mimetype": "text/x-python",
   "name": "python",
   "nbconvert_exporter": "python",
   "pygments_lexer": "ipython3",
   "version": "3.9.7"
  }
 },
 "nbformat": 4,
 "nbformat_minor": 2
}
