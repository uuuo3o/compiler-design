{
 "cells": [
  {
   "cell_type": "markdown",
   "metadata": {
    "pycharm": {
     "name": "#%% md\n"
    }
   },
   "source": [
    "# nltk(2)\n",
    "---\n",
    "All rights reserved, 2021-2023 By Youn-Sik Hong. 수업 목적으로만 활용 가능."
   ]
  },
  {
   "cell_type": "markdown",
   "metadata": {
    "pycharm": {
     "name": "#%% md\n"
    }
   },
   "source": [
    "- 참고 사이트: https://www.nltk.org/book/ch01.html\n",
    "    - nltk book 1. Language Processing and Python 내용을 참고.\n",
    "    - nltk book의 1장 예제 일부 인용."
   ]
  },
  {
   "cell_type": "markdown",
   "metadata": {
    "pycharm": {
     "name": "#%% md\n"
    }
   },
   "source": [
    "## 문자열 연산 기초"
   ]
  },
  {
   "cell_type": "markdown",
   "metadata": {
    "pycharm": {
     "name": "#%% md\n"
    }
   },
   "source": [
    "### 여러 개 문자열을 다룰 때는 리스트를 사용\n",
    "- 파이썬에서 list는 square bracket([...])를 사용하여 표현합니다."
   ]
  },
  {
   "cell_type": "code",
   "execution_count": 1,
   "metadata": {
    "pycharm": {
     "name": "#%%\n"
    }
   },
   "outputs": [
    {
     "data": {
      "text/plain": "['A', 'closer', 'look', 'at', 'Python']"
     },
     "execution_count": 1,
     "metadata": {},
     "output_type": "execute_result"
    }
   ],
   "source": [
    "ex1 = ['A','closer','look','at','Python']\n",
    "ex1"
   ]
  },
  {
   "cell_type": "code",
   "execution_count": 2,
   "metadata": {
    "pycharm": {
     "name": "#%%\n"
    }
   },
   "outputs": [
    {
     "data": {
      "text/plain": "'Texts as List of Words'"
     },
     "execution_count": 2,
     "metadata": {},
     "output_type": "execute_result"
    }
   ],
   "source": [
    "sent = 'Texts as List of Words'\n",
    "sent"
   ]
  },
  {
   "cell_type": "markdown",
   "metadata": {
    "pycharm": {
     "name": "#%% md\n"
    }
   },
   "source": [
    "리스트 **ex1**의 원소는 콤마로 구분된 5개이지만, 문자열(str) **sent**의 원소는 문자 갯수인 22개입니다."
   ]
  },
  {
   "cell_type": "code",
   "execution_count": 3,
   "metadata": {
    "pycharm": {
     "name": "#%%\n"
    }
   },
   "outputs": [
    {
     "name": "stdout",
     "output_type": "stream",
     "text": [
      "<class 'list'> <class 'str'> 5 22\n"
     ]
    }
   ],
   "source": [
    "print(type(ex1), type(sent), len(ex1), len(sent))"
   ]
  },
  {
   "cell_type": "markdown",
   "metadata": {
    "pycharm": {
     "name": "#%% md\n"
    }
   },
   "source": [
    "### join(), split() "
   ]
  },
  {
   "cell_type": "markdown",
   "metadata": {
    "pycharm": {
     "name": "#%% md\n"
    }
   },
   "source": [
    "**join()**\n",
    "- 리스트 타입을 str 타입으로 변환합니다.\n",
    "- 리스트의 원소를 전달받아, 원소들을 구분기호(delimiter)로 모두 연결해서 \n",
    "    - 하나의 str 객체를 만듭니다. \n",
    "- 리스트의 원소와 원소 사이에 delimiter가 삽입됩니다."
   ]
  },
  {
   "cell_type": "code",
   "execution_count": 4,
   "metadata": {
    "pycharm": {
     "name": "#%%\n"
    }
   },
   "outputs": [
    {
     "name": "stdout",
     "output_type": "stream",
     "text": [
      "<class 'str'> ==> A;closer;look;at;Python\n"
     ]
    }
   ],
   "source": [
    "ex1join = ';'.join(ex1) #semicolon(;)을 구분기호로 사용\n",
    "print(type(ex1join), '==>', ex1join)"
   ]
  },
  {
   "cell_type": "markdown",
   "metadata": {
    "pycharm": {
     "name": "#%% md\n"
    }
   },
   "source": [
    "**split()**\n",
    "- join과 반대되는 기능으로, str 타입을 리스트로 변환합니다.\n",
    "- str 객체를 전달받아 delimiter에서 정의한 기호를 기준으로 \n",
    "    - 여러 개의 str객체로 나눕니다."
   ]
  },
  {
   "cell_type": "code",
   "execution_count": 5,
   "metadata": {
    "pycharm": {
     "name": "#%%\n"
    }
   },
   "outputs": [
    {
     "name": "stdout",
     "output_type": "stream",
     "text": [
      "<class 'list'> ==> ['Texts', 'as', 'List', 'of', 'Words']\n"
     ]
    }
   ],
   "source": [
    "wds = sent.split(' ')\n",
    "print(type(wds), \"==>\", wds)"
   ]
  },
  {
   "cell_type": "markdown",
   "metadata": {
    "pycharm": {
     "name": "#%% md\n"
    }
   },
   "source": [
    "간단한 응용 예제에 지금까지 배운 걸 적용해 볼까요? 아래 문장은 nltk에서 샘플로 제공하는 단문(single sentence)입니다."
   ]
  },
  {
   "cell_type": "code",
   "execution_count": 6,
   "metadata": {
    "pycharm": {
     "name": "#%%\n"
    }
   },
   "outputs": [],
   "source": [
    "ex_sent1 = \"Call me Ishmael .\"\n",
    "ex_sent2 = \"The family of Dashwood had long been settled in Sussex .\""
   ]
  },
  {
   "cell_type": "code",
   "execution_count": 7,
   "metadata": {
    "pycharm": {
     "name": "#%%\n"
    }
   },
   "outputs": [
    {
     "name": "stdout",
     "output_type": "stream",
     "text": [
      "['Call', 'me', 'Ishmael', '.']\n",
      "['The', 'family', 'of', 'Dashwood', 'had', 'long', 'been', 'settled', 'in', 'Sussex', '.']\n"
     ]
    }
   ],
   "source": [
    "new_sent1 = ex_sent1.split(' ')\n",
    "new_sent2 = ex_sent2.split(' ')\n",
    "print(new_sent1)\n",
    "print(new_sent2)"
   ]
  },
  {
   "cell_type": "markdown",
   "metadata": {
    "pycharm": {
     "name": "#%% md\n"
    }
   },
   "source": [
    "## 빈도 분포(frequency distribution)\n",
    "- 자연어 처리에서 중요한 작업 중 하나는 말뭉치에서 단어 발생빈도를 조사하는 것입니다.\n",
    "- nltk에서는 빈도 분포 분석을 위해 **FreqDist** 클래스를 사용합니다.\n",
    "    - 파이썬에서는 FreqDist 클래스와 유사한 **Counter** 컬렉션을 제공하며, \n",
    "    - 사용 방법은 거의 같습니다."
   ]
  },
  {
   "cell_type": "code",
   "execution_count": 8,
   "metadata": {
    "pycharm": {
     "name": "#%%\n"
    }
   },
   "outputs": [
    {
     "name": "stdout",
     "output_type": "stream",
     "text": [
      "*** Introductory Examples for the NLTK Book ***\n",
      "Loading text1, ..., text9 and sent1, ..., sent9\n",
      "Type the name of the text or sentence to view it.\n",
      "Type: 'texts()' or 'sents()' to list the materials.\n",
      "text1: Moby Dick by Herman Melville 1851\n",
      "text2: Sense and Sensibility by Jane Austen 1811\n",
      "text3: The Book of Genesis\n",
      "text4: Inaugural Address Corpus\n",
      "text5: Chat Corpus\n",
      "text6: Monty Python and the Holy Grail\n",
      "text7: Wall Street Journal\n",
      "text8: Personals Corpus\n",
      "text9: The Man Who Was Thursday by G . K . Chesterton 1908\n"
     ]
    }
   ],
   "source": [
    "from nltk.book import *"
   ]
  },
  {
   "cell_type": "markdown",
   "metadata": {
    "pycharm": {
     "name": "#%% md\n"
    }
   },
   "source": [
    "단순히 중복되지 않은 단어만 찾을 목적이라면, set 연산을 하면 됩니다."
   ]
  },
  {
   "cell_type": "code",
   "execution_count": 9,
   "metadata": {
    "pycharm": {
     "name": "#%%\n"
    }
   },
   "outputs": [
    {
     "name": "stdout",
     "output_type": "stream",
     "text": [
      "260819 19317\n"
     ]
    }
   ],
   "source": [
    "print(len(text1), len(set(text1)))"
   ]
  },
  {
   "cell_type": "markdown",
   "metadata": {
    "pycharm": {
     "name": "#%% md\n"
    }
   },
   "source": [
    "- **FreqDist** 클래스의 객체 *fdist1* 를 생성하면 단어 발생빈도도 함께 알 수 있습니다. \n",
    "- *fdist1*(dictionary 객체)의 멤버인 단어(key)와 발생빈도(value)를 저장하고 있기 때문이죠."
   ]
  },
  {
   "cell_type": "code",
   "execution_count": 10,
   "metadata": {
    "pycharm": {
     "name": "#%%\n"
    }
   },
   "outputs": [
    {
     "name": "stdout",
     "output_type": "stream",
     "text": [
      "19317\n",
      "<class 'dict_keys'> <class 'dict_values'>\n"
     ]
    }
   ],
   "source": [
    "fdist1 = FreqDist(text1)\n",
    "print(len(fdist1))\n",
    "print(type(fdist1.keys()), type(fdist1.values()))"
   ]
  },
  {
   "cell_type": "markdown",
   "metadata": {
    "pycharm": {
     "name": "#%% md\n"
    }
   },
   "source": [
    "19,317개 단어를 모두 출력하는 대신 10개 단어만 출력해 보겠습니다."
   ]
  },
  {
   "cell_type": "code",
   "execution_count": 11,
   "metadata": {
    "pycharm": {
     "name": "#%%\n"
    }
   },
   "outputs": [
    {
     "name": "stdout",
     "output_type": "stream",
     "text": [
      "word = [          freq =     3\n",
      "word = Moby       freq =    84\n",
      "word = Dick       freq =    84\n",
      "word = by         freq =  1137\n",
      "word = Herman     freq =     1\n",
      "word = Melville   freq =     1\n",
      "word = 1851       freq =     3\n",
      "word = ]          freq =     1\n",
      "word = ETYMOLOGY  freq =     1\n",
      "word = .          freq =  6862\n",
      "word = (          freq =   210\n"
     ]
    }
   ],
   "source": [
    "#print(fdist1.keys())\n",
    "#print(fdist1.values())\n",
    "\n",
    "i = 0\n",
    "for (k, v) in zip(fdist1.keys(), fdist1.values()):\n",
    "    print('word = {:10s} freq = {:5d}'.format(k, v))\n",
    "    i += 1\n",
    "    if (i > 10): break"
   ]
  },
  {
   "cell_type": "markdown",
   "metadata": {
    "pycharm": {
     "name": "#%% md\n"
    }
   },
   "source": [
    "- for, break 를 이것저것 사용하니까 초보 느낌이 납니다. \n",
    "    - 다른 방식으로 코딩해 보겠습니다."
   ]
  },
  {
   "cell_type": "code",
   "execution_count": 12,
   "metadata": {
    "pycharm": {
     "name": "#%%\n"
    }
   },
   "outputs": [
    {
     "data": {
      "text/plain": "[('[', 3),\n ('Moby', 84),\n ('Dick', 84),\n ('by', 1137),\n ('Herman', 1),\n ('Melville', 1),\n ('1851', 3),\n (']', 1),\n ('ETYMOLOGY', 1),\n ('.', 6862)]"
     },
     "execution_count": 12,
     "metadata": {},
     "output_type": "execute_result"
    }
   ],
   "source": [
    "slist = [(k, v) for (k, v) in zip(fdist1.keys(), fdist1.values())]\n",
    "slist[:10]"
   ]
  },
  {
   "cell_type": "markdown",
   "metadata": {
    "pycharm": {
     "name": "#%% md\n"
    }
   },
   "source": [
    "**FreqDist** 클래스가 생각보다 간단하죠. 이제부터 **FreqDist** 클래스 세계에 풍덩 빠져 보기로 하죠!\n",
    "- **most_common** 메소드는 발생 빈도 순으로 정렬된 단어를 쉽게 확인할 수 있습니다.\n",
    "    - **most_common** 메소드는 원소가 *tuple*인 리스트를 반환합니다.\n",
    "    - tuple은 (*단어, 발생빈도*) 정보를 저장하고 있습니다."
   ]
  },
  {
   "cell_type": "code",
   "execution_count": 13,
   "metadata": {
    "pycharm": {
     "name": "#%%\n"
    }
   },
   "outputs": [
    {
     "data": {
      "text/plain": "[(',', 18713),\n ('the', 13721),\n ('.', 6862),\n ('of', 6536),\n ('and', 6024),\n ('a', 4569),\n ('to', 4542),\n (';', 4072),\n ('in', 3916),\n ('that', 2982)]"
     },
     "execution_count": 13,
     "metadata": {},
     "output_type": "execute_result"
    }
   ],
   "source": [
    "mc50 = fdist1.most_common(50) #상위 50개 단어\n",
    "mc50[:10]"
   ]
  },
  {
   "cell_type": "markdown",
   "metadata": {
    "pycharm": {
     "name": "#%% md\n"
    }
   },
   "source": [
    "단어별 발생 빈도도 쉽게 확인할 수 있습니다. \n",
    "- *fdist1*이 dictionary 객체로 저장하고 있다는 걸 기억하세요."
   ]
  },
  {
   "cell_type": "code",
   "execution_count": 14,
   "metadata": {
    "pycharm": {
     "name": "#%%\n"
    }
   },
   "outputs": [
    {
     "data": {
      "text/plain": "13721"
     },
     "execution_count": 14,
     "metadata": {},
     "output_type": "execute_result"
    }
   ],
   "source": [
    "fdist1['the']\n",
    "#fdist1['whale']\n",
    "#fdist1['affection']"
   ]
  },
  {
   "cell_type": "markdown",
   "metadata": {
    "pycharm": {
     "name": "#%% md\n"
    }
   },
   "source": [
    "- 상위 50개 단어가 전체 단어 중 어느 정도 빈도를 차지하는지 구해 볼 수 있습니다.\n",
    "    - tuple의 2번째 원소(**e[1]**)인 발생빈도만 모두 더하면 됩니다.\n",
    "- 19,317개 단어 중 불과 50개 단어가 차지하는 발생빈도가 전체 단어의 47%를 차지합니다."
   ]
  },
  {
   "cell_type": "code",
   "execution_count": 15,
   "metadata": {
    "pycharm": {
     "name": "#%%\n"
    }
   },
   "outputs": [
    {
     "name": "stdout",
     "output_type": "stream",
     "text": [
      "상위 50개 단어 발생빈도 합= 121725\n",
      "46.67%\n"
     ]
    }
   ],
   "source": [
    "import numpy as np\n",
    "\n",
    "sum = 0\n",
    "for e in mc50:\n",
    "    sum += e[1]\n",
    "print('상위 50개 단어 발생빈도 합= %d' % sum)    \n",
    "print('%2.2f%%'% np.round(sum/len(text1)*100, 5))"
   ]
  },
  {
   "cell_type": "markdown",
   "metadata": {
    "pycharm": {
     "name": "#%% md\n"
    }
   },
   "source": [
    "python을 조금(?) 사용해 본 사람은 for 문을 사용해 코딩하지 않죠. "
   ]
  },
  {
   "cell_type": "code",
   "execution_count": 16,
   "metadata": {
    "pycharm": {
     "name": "#%%\n"
    }
   },
   "outputs": [
    {
     "name": "stdout",
     "output_type": "stream",
     "text": [
      "상위 50개 단어 발생빈도 합= 121,725\n"
     ]
    }
   ],
   "source": [
    "sum = np.sum([e[1] for e in mc50])\n",
    "print('상위 50개 단어 발생빈도 합= {:,}'.format(sum))  "
   ]
  },
  {
   "cell_type": "markdown",
   "metadata": {
    "pycharm": {
     "name": "#%% md\n"
    }
   },
   "source": [
    "재롱덩어리 **FreqDist**가 갖고 있는 마지막 재주를 감상해 보기로 하죠.\n",
    "- **plot** 메소드는 단어의 발생 빈도를 그래프로 출력합니다. \n",
    "- 50은 발생 빈도 기준 상위 50개 단어를 가리킵니다.\n",
    "- 누적 빈도를 보려면 *cumulative* 옵션을 *True*로 설정하면 되구요. \n",
    "    - 설정하지 않으면 개별 단어의 빈도를 보여줍니다."
   ]
  },
  {
   "cell_type": "code",
   "execution_count": 17,
   "metadata": {
    "pycharm": {
     "name": "#%%\n"
    }
   },
   "outputs": [
    {
     "data": {
      "text/plain": "<Figure size 640x480 with 1 Axes>",
      "image/png": "[encoded data removed]"
     },
     "metadata": {},
     "output_type": "display_data"
    },
    {
     "data": {
      "text/plain": "<Axes: xlabel='Samples', ylabel='Cumulative Counts'>"
     },
     "execution_count": 17,
     "metadata": {},
     "output_type": "execute_result"
    }
   ],
   "source": [
    "fdist1.plot(50, cumulative=True)\n",
    "#fdist1.plot(50)"
   ]
  },
  {
   "cell_type": "markdown",
   "metadata": {
    "pycharm": {
     "name": "#%% md\n"
    }
   },
   "source": [
    "## 빈도 분포 응용\n",
    "- 단어가 영어 알파벳일 경우 소문자로 변환 후 빈도를 구합니다. \n",
    "- 또, 단어 길이가 3이상인 경우로 제한해서 빈도를 구해보겠습니다."
   ]
  },
  {
   "cell_type": "code",
   "execution_count": 18,
   "metadata": {
    "pycharm": {
     "name": "#%%\n"
    }
   },
   "outputs": [
    {
     "data": {
      "text/plain": "16948"
     },
     "execution_count": 18,
     "metadata": {},
     "output_type": "execute_result"
    }
   ],
   "source": [
    "dist = FreqDist(ch.lower() for ch in text1 if ch.isalpha())\n",
    "#dist = FreqDist(ch.lower() for ch in text1 if ch.isalpha() and len(ch)>2)\n",
    "len(dist)"
   ]
  },
  {
   "cell_type": "code",
   "execution_count": 19,
   "metadata": {
    "pycharm": {
     "name": "#%%\n"
    }
   },
   "outputs": [
    {
     "data": {
      "text/plain": "[('the', 14431), ('of', 6609), ('and', 6430), ('a', 4736), ('to', 4625)]"
     },
     "execution_count": 19,
     "metadata": {},
     "output_type": "execute_result"
    }
   ],
   "source": [
    "dist.most_common(5)"
   ]
  },
  {
   "cell_type": "code",
   "execution_count": 20,
   "metadata": {
    "pycharm": {
     "name": "#%%\n"
    }
   },
   "outputs": [
    {
     "data": {
      "text/plain": "[('the', 14431),\n ('of', 6609),\n ('and', 6430),\n ('a', 4736),\n ('to', 4625),\n ('in', 4172),\n ('that', 3085),\n ('his', 2530),\n ('it', 2522),\n ('i', 2127)]"
     },
     "execution_count": 20,
     "metadata": {},
     "output_type": "execute_result"
    }
   ],
   "source": [
    "[(char, count) for (char, count) in dist.most_common(10)]"
   ]
  },
  {
   "cell_type": "markdown",
   "metadata": {
    "pycharm": {
     "name": "#%% md\n"
    }
   },
   "source": [
    "## 조건을 만족하는 단어 찾기"
   ]
  },
  {
   "cell_type": "code",
   "execution_count": 21,
   "metadata": {
    "pycharm": {
     "name": "#%%\n"
    }
   },
   "outputs": [],
   "source": [
    "V = set(text1) #중복 단어 제거"
   ]
  },
  {
   "cell_type": "markdown",
   "metadata": {
    "pycharm": {
     "name": "#%% md\n"
    }
   },
   "source": [
    "- 단어 길이가 15이상인 단어만 찾아 리스트에 저장합니다. \n",
    "- 파이썬 언어의 강점을 살린 이런 코딩 스타일에 익숙해져야 합니다."
   ]
  },
  {
   "cell_type": "code",
   "execution_count": 22,
   "metadata": {
    "pycharm": {
     "name": "#%%\n"
    }
   },
   "outputs": [
    {
     "data": {
      "text/plain": "72"
     },
     "execution_count": 22,
     "metadata": {},
     "output_type": "execute_result"
    }
   ],
   "source": [
    "long_words = [w for w in V if len(w)>=15]\n",
    "len(sorted(long_words))"
   ]
  },
  {
   "cell_type": "code",
   "execution_count": 23,
   "metadata": {
    "pycharm": {
     "name": "#%%\n"
    }
   },
   "outputs": [
    {
     "data": {
      "text/plain": "['thoughtlessness',\n 'cannibalistically',\n 'phosphorescence',\n 'responsibilities',\n 'circumnavigation',\n 'apprehensiveness',\n 'miscellaneously',\n 'dissatisfaction',\n 'superstitiously',\n 'comprehensively']"
     },
     "execution_count": 23,
     "metadata": {},
     "output_type": "execute_result"
    }
   ],
   "source": [
    "long_words[:10]"
   ]
  },
  {
   "cell_type": "markdown",
   "metadata": {
    "pycharm": {
     "name": "#%% md\n"
    }
   },
   "source": [
    "## 단어 길이에 따른 빈도 분포\n",
    "- 단어 길이를 기준으로 빈도를 조사합니다. \n",
    "- 단어에서 재일 짧은 길이는 1이죠. 그렇다면 가장 길이가 긴 단어는? 조사하면 다 나오죠. 20개입니다."
   ]
  },
  {
   "cell_type": "code",
   "execution_count": 24,
   "metadata": {
    "pycharm": {
     "name": "#%%\n"
    }
   },
   "outputs": [
    {
     "name": "stdout",
     "output_type": "stream",
     "text": [
      "dict_values([47933, 42345, 38513, 17111, 9966, 6428, 1873, 26597, 14399, 50223, 3528, 1053, 567, 177, 22, 70, 12, 1, 1])\n",
      "19\n"
     ]
    }
   ],
   "source": [
    "fdist = FreqDist(len(w) for w in text1)  # fdist = FreqDist(text1)\n",
    "print(fdist.values())\n",
    "print(len(fdist.values()))"
   ]
  },
  {
   "cell_type": "code",
   "execution_count": 25,
   "metadata": {
    "pycharm": {
     "name": "#%%\n"
    }
   },
   "outputs": [
    {
     "name": "stdout",
     "output_type": "stream",
     "text": [
      "<FreqDist with 19 samples and 260819 outcomes>\n"
     ]
    }
   ],
   "source": [
    "print(fdist) #26만개 단어 중 단어 길이는 모두 19개."
   ]
  },
  {
   "cell_type": "code",
   "execution_count": 26,
   "metadata": {
    "pycharm": {
     "name": "#%%\n"
    }
   },
   "outputs": [
    {
     "data": {
      "text/plain": "[(3, 50223),\n (1, 47933),\n (4, 42345),\n (2, 38513),\n (5, 26597),\n (6, 17111),\n (7, 14399),\n (8, 9966),\n (9, 6428),\n (10, 3528),\n (11, 1873),\n (12, 1053),\n (13, 567),\n (14, 177),\n (15, 70),\n (16, 22),\n (17, 12),\n (18, 1),\n (20, 1)]"
     },
     "execution_count": 26,
     "metadata": {},
     "output_type": "execute_result"
    }
   ],
   "source": [
    "fdist.most_common() #Suprise! 단어 길이가 19인 단어는 없습니다.  "
   ]
  },
  {
   "cell_type": "markdown",
   "metadata": {
    "pycharm": {
     "name": "#%% md\n"
    }
   },
   "source": [
    "갑자기 길이가 18, 길이가 20인 단어가 궁금해지지 않았나요?"
   ]
  },
  {
   "cell_type": "code",
   "execution_count": 27,
   "metadata": {
    "pycharm": {
     "name": "#%%\n"
    }
   },
   "outputs": [
    {
     "name": "stdout",
     "output_type": "stream",
     "text": [
      "['characteristically'] ['uninterpenetratingly']\n"
     ]
    }
   ],
   "source": [
    "long_18_word = [w for w in text1 if len(w)==18]\n",
    "long_20_word = [w for w in text1 if len(w)==20]\n",
    "print(long_18_word, long_20_word)"
   ]
  },
  {
   "cell_type": "code",
   "execution_count": 28,
   "metadata": {
    "pycharm": {
     "name": "#%%\n"
    }
   },
   "outputs": [
    {
     "name": "stdout",
     "output_type": "stream",
     "text": [
      "3 50223\n"
     ]
    }
   ],
   "source": [
    "print(fdist.max(), fdist[fdist.max()])"
   ]
  },
  {
   "cell_type": "markdown",
   "metadata": {
    "pycharm": {
     "name": "#%% md\n"
    }
   },
   "source": [
    "길이가 3인 단어의 빈도가 전체 단어 중 19.2%를 차지합니다."
   ]
  },
  {
   "cell_type": "code",
   "execution_count": 29,
   "metadata": {
    "pycharm": {
     "name": "#%%\n"
    }
   },
   "outputs": [
    {
     "data": {
      "text/plain": "'19.26%'"
     },
     "execution_count": 29,
     "metadata": {},
     "output_type": "execute_result"
    }
   ],
   "source": [
    "'%2.2f%%' % np.round(fdist.freq(3)*100, 3)"
   ]
  },
  {
   "cell_type": "markdown",
   "metadata": {
    "pycharm": {
     "name": "#%% md\n"
    }
   },
   "source": [
    "길이가 5인 단어의 빈도는 전체 단어 중 1.35%에 불과하군요."
   ]
  },
  {
   "cell_type": "code",
   "execution_count": 30,
   "metadata": {
    "pycharm": {
     "name": "#%%\n"
    }
   },
   "outputs": [
    {
     "data": {
      "text/plain": "'1.35%'"
     },
     "execution_count": 30,
     "metadata": {},
     "output_type": "execute_result"
    }
   ],
   "source": [
    "'%2.2f%%' % np.round(fdist.freq(10)*100, 3)"
   ]
  },
  {
   "cell_type": "markdown",
   "metadata": {
    "pycharm": {
     "name": "#%% md\n"
    }
   },
   "source": [
    "## Quiz: 다음은 무엇을 찾고 싶어 하는 걸까요?"
   ]
  },
  {
   "cell_type": "code",
   "execution_count": 31,
   "metadata": {
    "pycharm": {
     "name": "#%%\n"
    }
   },
   "outputs": [
    {
     "data": {
      "text/plain": "['Elinor',\n 'Marianne',\n 'could',\n 'from',\n 'have',\n 'that',\n 'which',\n 'with',\n 'would']"
     },
     "execution_count": 31,
     "metadata": {},
     "output_type": "execute_result"
    }
   ],
   "source": [
    "fdist2 = FreqDist(text2)\n",
    "\n",
    "swords = [w for w in set(text2) if len(w)>3 and fdist2[w]>500]\n",
    "# 글자수가 3 이상, 빈도수가 500 이상인 단어만 출력\n",
    "sorted(swords)"
   ]
  },
  {
   "cell_type": "markdown",
   "metadata": {
    "pycharm": {
     "name": "#%% md\n"
    }
   },
   "source": [
    "## 단어 비교 함수 \n",
    "- **s.endswith(t)**: 문자열 s가 접미어 t를 갖는지 조사합니다.\n",
    "- **s.istitle()** : 문자열 s가 제목(title)인지 조사합니다. 첫 글자가 대문자인지 조사합니다.\n",
    "- **s.isdigit()**: 문자열 s가 숫자인지 조사합니다. \n",
    "- **t in s** : 부분문자열 t가 문자열 s 에 있는지 조사합니다."
   ]
  },
  {
   "cell_type": "code",
   "execution_count": 32,
   "metadata": {
    "pycharm": {
     "name": "#%%\n"
    }
   },
   "outputs": [
    {
     "data": {
      "text/plain": "['comfortableness',\n 'honourableness',\n 'immutableness',\n 'indispensableness',\n 'indomitableness',\n 'intolerableness',\n 'palpableness',\n 'reasonableness',\n 'uncomfortableness']"
     },
     "execution_count": 32,
     "metadata": {},
     "output_type": "execute_result"
    }
   ],
   "source": [
    "sorted(w for w in set(text1) if w.endswith('ableness'))\n",
    "#sorted(w for w in set(text1) if w.endswith('cial'))"
   ]
  },
  {
   "cell_type": "code",
   "execution_count": 33,
   "metadata": {
    "pycharm": {
     "name": "#%%\n"
    }
   },
   "outputs": [
    {
     "data": {
      "text/plain": "['Sovereignty', 'sovereignties', 'sovereignty']"
     },
     "execution_count": 33,
     "metadata": {},
     "output_type": "execute_result"
    }
   ],
   "source": [
    "sorted(term for term in set(text4) if 'gnt' in term)\n",
    "#sorted(term for term in set(text4) if 'ded' in term)"
   ]
  },
  {
   "cell_type": "code",
   "execution_count": 34,
   "metadata": {
    "pycharm": {
     "name": "#%%\n"
    }
   },
   "outputs": [
    {
     "data": {
      "text/plain": "['A',\n 'Aaaaaaaaah',\n 'Aaaaaaaah',\n 'Aaaaaah',\n 'Aaaah',\n 'Aaaaugh',\n 'Aaagh',\n 'Aaah',\n 'Aaauggh',\n 'Aaaugh']"
     },
     "execution_count": 34,
     "metadata": {},
     "output_type": "execute_result"
    }
   ],
   "source": [
    "lst = sorted(item for item in set(text6) if item.istitle())\n",
    "lst[:10]"
   ]
  },
  {
   "cell_type": "code",
   "execution_count": 35,
   "metadata": {
    "pycharm": {
     "name": "#%%\n"
    }
   },
   "outputs": [
    {
     "name": "stdout",
     "output_type": "stream",
     "text": [
      "['Pierre', 'Vinken', ',', '61', 'years', 'old', ',', 'will', 'join', 'the', 'board', 'as', 'a', 'nonexecutive', 'director', 'Nov.', '29', '.']\n"
     ]
    },
    {
     "data": {
      "text/plain": "['29', '61']"
     },
     "execution_count": 35,
     "metadata": {},
     "output_type": "execute_result"
    }
   ],
   "source": [
    "print(sent7)\n",
    "sorted(item for item in set(sent7) if item.isdigit())"
   ]
  }
 ],
 "metadata": {
  "kernelspec": {
   "display_name": "Python 3 (ipykernel)",
   "language": "python",
   "name": "python3"
  },
  "language_info": {
   "codemirror_mode": {
    "name": "ipython",
    "version": 3
   },
   "file_extension": ".py",
   "mimetype": "text/x-python",
   "name": "python",
   "nbconvert_exporter": "python",
   "pygments_lexer": "ipython3",
   "version": "3.9.7"
  }
 },
 "nbformat": 4,
 "nbformat_minor": 2
}