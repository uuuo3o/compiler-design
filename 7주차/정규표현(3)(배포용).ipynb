{
 "cells": [
  {
   "cell_type": "markdown",
   "metadata": {
    "pycharm": {
     "name": "#%% md\n"
    }
   },
   "source": [
    "# Practices(1): 정규 표현 메타 기호\n",
    "---\n",
    "All rights reserved, 2021-2023 by *Youn-Sik Hong*. 수업 목적으로만 활용 가능."
   ]
  },
  {
   "cell_type": "markdown",
   "metadata": {
    "pycharm": {
     "name": "#%% md\n"
    }
   },
   "source": [
    "# assignment\n",
    "- 이 handout sheet의 마지막 셀에 3개의 문제가 있습니다. \n",
    "    - 난이도는 중(medium)입니다.\n",
    "        - 비어있는 셀에 문제에 대한 정답 코드를 작성하고 실행 결과를 보여야 합니다.\n",
    "    - 이 문제를 잘 해결하고 **정규표현(4).ipynb**의 난이도 상(high)에 도전해 보세요.\n",
    "- 모든 셀의 실행 결과가 포함되어 있어야 합니다. \n",
    "    - 즉, 모든 셀에는 셀 번호가 있어야 합니다."
   ]
  },
  {
   "cell_type": "code",
   "execution_count": 1,
   "metadata": {
    "pycharm": {
     "name": "#%%\n"
    }
   },
   "outputs": [],
   "source": [
    "import re"
   ]
  },
  {
   "cell_type": "markdown",
   "metadata": {
    "pycharm": {
     "name": "#%% md\n"
    }
   },
   "source": [
    "정규표현 테스트를 쉽게 할 수 있도록 함수 **text_search()** 를 정의합니다."
   ]
  },
  {
   "cell_type": "code",
   "execution_count": 2,
   "metadata": {
    "pycharm": {
     "name": "#%%\n"
    }
   },
   "outputs": [],
   "source": [
    "def text_search(patterns, text):\n",
    "    m = re.search(patterns, text)\n",
    "    if m:\n",
    "        print(m.group(0)) \n",
    "    else:\n",
    "        print('Not found!')"
   ]
  },
  {
   "cell_type": "markdown",
   "metadata": {
    "pycharm": {
     "name": "#%% md\n"
    }
   },
   "source": [
    "메타기호 \\? 는 패턴이 없거나 한 번 발생(zero or one occurrence)을 의미합니다. \n",
    "- 패턴이 없다는 것은 empty string(빈 문자열, $\\lambda$ 또는 $\\epsilon$)을 의미합니다. \n",
    "    - $\\lambda$ 는 길이가 0인 문자열입니다. \n",
    "- 문자열 연산에서 $\\lambda$ 는 곱셈의 1과 같습니다. \n",
    "    - 곱셈에서 1을 곱해도 전혀 값이 변하지 않는 것과 같습니다. "
   ]
  },
  {
   "cell_type": "code",
   "execution_count": 3,
   "metadata": {
    "pycharm": {
     "name": "#%%\n"
    }
   },
   "outputs": [
    {
     "name": "stdout",
     "output_type": "stream",
     "text": [
      "a\n",
      "ab\n",
      "Not found!\n"
     ]
    }
   ],
   "source": [
    "# ab? 패턴에 해당하는 문자열: a, ab\n",
    "#text_search(\"ab?\", \"ac\")  \n",
    "text_search(r\"ab?\", \"ac\")  \n",
    "text_search(r\"ab?\", \"abc\")\n",
    "text_search(r\"ab?\", \"bbc\")"
   ]
  },
  {
   "cell_type": "markdown",
   "metadata": {
    "pycharm": {
     "name": "#%% md\n"
    }
   },
   "source": [
    "- 괄호로 묶으면 어떻게 될까요? \n",
    "    - **ab?** 패턴에 해당하는 문자열이 [a, ab]라는 것은 **a(b?)** 와 같습니다.\n",
    "    - 그러면 **(ab)?** 패턴에 해당하는 문자열은 [$\\lambda$, ab] 이겠죠. \n",
    "    - 실행하면서 확인해 볼까요? **(ab)?** 는 아무 것도 출력을 하지 않네요..\n",
    "        - 뭔가 이상하군요."
   ]
  },
  {
   "cell_type": "code",
   "execution_count": 4,
   "metadata": {
    "pycharm": {
     "name": "#%%\n"
    }
   },
   "outputs": [
    {
     "name": "stdout",
     "output_type": "stream",
     "text": [
      "a\n",
      "\n"
     ]
    }
   ],
   "source": [
    "text_search(r\"a(b)?\", \"ac\")\n",
    "text_search(r\"(ab)?\", \"ac\")"
   ]
  },
  {
   "cell_type": "markdown",
   "metadata": {
    "pycharm": {
     "name": "#%% md\n"
    }
   },
   "source": [
    "- **text_search** 메소드를 조금 수정하면 금방 그 이유를 알 수 있습니다. \n",
    "    - 괄호를 사용했기 때문에 subgroup을 확인할 수 있습니다.\n",
    "    - **match** 객체가 *None*은 아닙니다. \n",
    "        - m.group(1)이 None 인 것은 $\\lambda$(empty string)이기 때문입니다.\n",
    "        - $\\lambda$ 이니 보일 리가 없죠..."
   ]
  },
  {
   "cell_type": "code",
   "execution_count": 5,
   "metadata": {
    "pycharm": {
     "name": "#%%\n"
    }
   },
   "outputs": [
    {
     "name": "stdout",
     "output_type": "stream",
     "text": [
      "match is not null\n",
      "None\n"
     ]
    }
   ],
   "source": [
    "m = re.search(\"(ab)?\", \"ac\")\n",
    "if m:\n",
    "    print('match is not null'); print(m.group(1)) \n",
    "else:\n",
    "    print('Not found!')"
   ]
  },
  {
   "cell_type": "markdown",
   "metadata": {
    "pycharm": {
     "name": "#%% md\n"
    }
   },
   "source": [
    "**정규표현(2).ipynb** 에서 사용한 메타기호를 다룹니다. 이제 전혀 낯설지 않을 겁니다."
   ]
  },
  {
   "cell_type": "markdown",
   "metadata": {
    "pycharm": {
     "name": "#%% md\n"
    }
   },
   "source": [
    "- 메타기호 \\* (star로 읽음)는 없거나 여러 번 발생(zero or more occurrences)을 의미합니다. \n",
    "- 패턴이 없을 수 있다는 점이 \\+와 차이점입니다."
   ]
  },
  {
   "cell_type": "code",
   "execution_count": 6,
   "metadata": {
    "pycharm": {
     "name": "#%%\n"
    }
   },
   "outputs": [
    {
     "name": "stdout",
     "output_type": "stream",
     "text": [
      "a\n",
      "ab\n",
      "abbbbb\n",
      "Not found!\n"
     ]
    }
   ],
   "source": [
    "#ab*=a(b)* 패턴에 해당하는 문자열: a, ab, abb, abbb, abbb....\n",
    "text_search(r\"ab*\", \"ac\")  \n",
    "text_search(r\"ab*\", \"abc\")\n",
    "text_search(r\"ab*\", \"abbbbbc\")\n",
    "text_search(r\"ab*\", \"cbc\")"
   ]
  },
  {
   "cell_type": "markdown",
   "metadata": {
    "pycharm": {
     "name": "#%% md\n"
    }
   },
   "source": [
    "- 메타기호 \\+ 는 한 번 또는 여러 번 발생(one or more occurrences)을 의미합니다. \n",
    "- 최소한 한 번은 발생해야 합니다."
   ]
  },
  {
   "cell_type": "code",
   "execution_count": 7,
   "metadata": {
    "pycharm": {
     "name": "#%%\n"
    }
   },
   "outputs": [
    {
     "name": "stdout",
     "output_type": "stream",
     "text": [
      "Not found!\n",
      "ab\n",
      "abb\n"
     ]
    }
   ],
   "source": [
    "# ab+ = a(b)+ 패턴에 해당하는 문자열: {ab, abb, abbb, abbbb, ....}\n",
    "#text_search(\"ab+\", \"ac\") #r은 생략 가능\n",
    "text_search(r\"ab+\", \"ac\") \n",
    "text_search(r\"ab+\", \"abc\")\n",
    "text_search(r\"ab+\", \"abbc\")"
   ]
  },
  {
   "cell_type": "markdown",
   "metadata": {
    "pycharm": {
     "name": "#%% md\n"
    }
   },
   "source": [
    "- 메타기호 \\{ \\} 를 사용하여 패턴의 발생 횟수 또는 범위를 지정할 수 있습니다. \n",
    "    - \\{3, 5\\}는 패턴이 3번, 4번, 또는 5번 발생할 수 있다는 뜻입니다.\n",
    "    - 최소 3번은 발생해야 한다는 뜻도 포함하고 있습니다."
   ]
  },
  {
   "cell_type": "code",
   "execution_count": 8,
   "metadata": {
    "pycharm": {
     "name": "#%%\n"
    }
   },
   "outputs": [
    {
     "name": "stdout",
     "output_type": "stream",
     "text": [
      "abb\n",
      "abbbbb\n",
      "Not found!\n",
      "Not found!\n",
      "abbb\n"
     ]
    }
   ],
   "source": [
    "text_search(r\"ab{2}\", \"abbc\") # abb\n",
    "text_search(r\"ab{3,5}\", \"aabbbbbbc\")  # abbb, abbbb, abbbbb\n",
    "text_search(r\"ab{3,5}\", \"aabbc\") \n",
    "text_search(r\"(ab){3,5}\", \"aabbc\") #ababab. abababab, ababababab\n",
    "text_search(r\"a(b{3,5})\", \"abbbc\") #abbb, abbbb, abbbbb"
   ]
  },
  {
   "cell_type": "markdown",
   "metadata": {
    "pycharm": {
     "name": "#%% md\n"
    }
   },
   "source": [
    "- 여기서 잠깐! 최소 3번 이상 발생은 어떻게 지정할까요?\n",
    "- 아래 예제 문자열에서 b 의 개수는 모두 6개입니다."
   ]
  },
  {
   "cell_type": "code",
   "execution_count": 9,
   "metadata": {
    "pycharm": {
     "name": "#%%\n"
    }
   },
   "outputs": [
    {
     "name": "stdout",
     "output_type": "stream",
     "text": [
      "abbbbb\n",
      "abbbbbbb\n"
     ]
    }
   ],
   "source": [
    "text_search(r\"ab{3,5}\", \"aabbbbbbbc\") # 3,4,5번 발생\n",
    "text_search(r\"ab{3,}\", \"aabbbbbbbc\")  # 3번 이상 발생한 패턴 중 길이가 가장 긴 패턴"
   ]
  },
  {
   "cell_type": "markdown",
   "metadata": {
    "pycharm": {
     "name": "#%% md\n"
    }
   },
   "source": [
    "- 메타기호 \\^(caret)은 텍스트의 맨 처음을 나타내는 기호입니다. \n",
    "- 메타기호 \\$(dollar)는 텍스트의 맨 마지막을 나타내는 기호입니다.\n",
    "- 아래 예제는 a로 시작해서 c로 끝나는 문자열을 찾습니다."
   ]
  },
  {
   "cell_type": "code",
   "execution_count": 10,
   "metadata": {
    "pycharm": {
     "name": "#%%\n"
    }
   },
   "outputs": [
    {
     "name": "stdout",
     "output_type": "stream",
     "text": [
      "abfc\n",
      "Not found!\n"
     ]
    }
   ],
   "source": [
    "text_search(\"^a.*c$\", \"abfc\", )  # a...c\n",
    "text_search(\"^a.*c$\", \"abfck\", )  # a...k"
   ]
  },
  {
   "cell_type": "markdown",
   "metadata": {
    "pycharm": {
     "name": "#%% md\n"
    }
   },
   "source": [
    "- \\w : Any **alphanumeric** character (equivalent to [a-zA-Z0-9_]). \n",
    "- \\W : Any **non-alphanumeric** character (equivalent to  [^a-zA-Z0-9_])"
   ]
  },
  {
   "cell_type": "markdown",
   "metadata": {
    "pycharm": {
     "name": "#%% md\n"
    }
   },
   "source": [
    "- text_search()는 \\^ 이 있기 때문에 영문자+숫자로 이루어진 단어를 찾습니다.\n",
    "- 첫 번째 findall() 역시 \\^ 을 사용했기 때문에 조건에 맞는 단어는 하나 뿐입니다.\n",
    "- 두 번째 findall()은 \\^ 이 없기 때문에 영문자+숫자로 이루어진 모든 단어를 찾습니다.\n",
    "    - 구둣점 기호(, !)와 공백 문자(space)는 제외됩니다.\n",
    "- 세 번째 findall()은 대문자 W를 사용했기 때문에 구둣점 기호와 공백 문자만 찾습니다."
   ]
  },
  {
   "cell_type": "code",
   "execution_count": 11,
   "metadata": {
    "pycharm": {
     "name": "#%%\n"
    }
   },
   "outputs": [
    {
     "name": "stdout",
     "output_type": "stream",
     "text": [
      "Tuffy\n",
      "['Tuffy']\n",
      "['Tuffy', 'eats', 'pie', 'Loki', 'eats', 'peas']\n",
      "[' ', ' ', ', ', ' ', ' ', '!']\n"
     ]
    }
   ],
   "source": [
    "str = \"Tuffy eats pie, Loki eats peas!\"\n",
    "text_search(\"^\\w+\", str)\n",
    "print(re.findall(r'^\\w+', str))\n",
    "print(re.findall(r'\\w+', str))\n",
    "print(re.findall(r'\\W+', str))"
   ]
  },
  {
   "cell_type": "markdown",
   "metadata": {
    "pycharm": {
     "name": "#%% md\n"
    }
   },
   "source": [
    "새로운 메타기호입니다. 사실 설명하지 못한 메타기호가 더 많습니다 -_-"
   ]
  },
  {
   "cell_type": "markdown",
   "metadata": {
    "pycharm": {
     "name": "#%% md\n"
    }
   },
   "source": [
    "- \\s : Any whitespace character (equivalent to [ \\t\\n\\r\\f\\v]).\n",
    "    - \\t(tab), \\n(newline), \\r(carriage return) 등은 **escape 문자** 입니다.\n",
    "        - Tab 키, Enter 키, Space 키에 해당하는 문자를 가리킵니다.\n",
    "    - [ ]기호(brackets) 의미를 정확히 이해하세요. \n",
    "        - [ ]안에 속한 기호 중 **하나**를 가리킵니다. \n",
    "    - 아래 예제에서 여러 개의 whitespace 문자를 찾기 때문에, \n",
    "        - \\s대신 \\s+와 같이 메타기호 +를 추가했습니다."
   ]
  },
  {
   "cell_type": "markdown",
   "metadata": {
    "pycharm": {
     "name": "#%% md\n"
    }
   },
   "source": [
    "- \\S : Any non-whitespace character (equivalent to [^ \\t\\n\\r\\f\\v])\n",
    "    - 눈치빠른 학생은 지금쯤 ^(caret) 기호 의미를 파악했을 겁니다. \n",
    "    - 그리고, 소문자 메타기호와 대문자 메타기호는 정반대의 패턴을 정의한다는 것도요!!!"
   ]
  },
  {
   "cell_type": "code",
   "execution_count": 12,
   "metadata": {
    "pycharm": {
     "name": "#%%\n"
    }
   },
   "outputs": [
    {
     "name": "stdout",
     "output_type": "stream",
     "text": [
      "non-whitespace chars=Tuffy\n",
      "whitespace chars= \n"
     ]
    }
   ],
   "source": [
    "str = \"Tuffy eats pie, Loki eats peas!\"\n",
    "print('non-whitespace chars=', end='')\n",
    "text_search(r\"\\S+\", str)\n",
    "\n",
    "print('whitespace chars=', end='')\n",
    "text_search(r\"\\s+\", str)"
   ]
  },
  {
   "cell_type": "markdown",
   "metadata": {
    "pycharm": {
     "name": "#%% md\n"
    }
   },
   "source": [
    "- whitespace chars는 아무 것도 출력되지 않았어요.\n",
    "- 아래 코드를 실행시켜 보세요."
   ]
  },
  {
   "cell_type": "code",
   "execution_count": 13,
   "metadata": {
    "pycharm": {
     "name": "#%%\n"
    }
   },
   "outputs": [
    {
     "name": "stdout",
     "output_type": "stream",
     "text": [
      "찾은 토큰 개수 = 5, whitespace chars = [' ', ' ', ' ', ' ', ' ']\n",
      "찾은 토큰 개수 = 6, non-whitespace chars = ['Tuffy', 'eats', 'pie,', 'Loki', 'eats', 'peas!']\n"
     ]
    }
   ],
   "source": [
    "s1 = re.findall(r'\\s+', str)\n",
    "print('찾은 토큰 개수 = {}, whitespace chars = {}'.format(len(s1), s1))\n",
    "s2 = re.findall(r'\\S+', str)\n",
    "print('찾은 토큰 개수 = {}, non-whitespace chars = {}'.format(len(s2), s2))"
   ]
  },
  {
   "cell_type": "markdown",
   "metadata": {
    "pycharm": {
     "name": "#%% md\n"
    }
   },
   "source": [
    "한 가지 아니면 2개 메타 기호를 사용한 정규표현 예제가 지루해졌죠. 이제 여러 개 메타 기호를 섞어 쓴 예제를 살펴봅시다.\n",
    "- \\w+와 \\S+ 차이점에 주목하기 바랍니다.\n",
    "- \\S+는 구둣점도 포함해서 token을 찾습니다. "
   ]
  },
  {
   "cell_type": "code",
   "execution_count": 14,
   "metadata": {
    "pycharm": {
     "name": "#%%\n"
    }
   },
   "outputs": [
    {
     "name": "stdout",
     "output_type": "stream",
     "text": [
      "['Tuffy?', 'eats^', 'pie#,', 'Loki+', 'eats~', 'peas!']\n",
      "['peas!']\n",
      "['Tuffy?']\n"
     ]
    }
   ],
   "source": [
    "str = \"Tuffy? eats^ pie#, Loki+ eats~ peas!\"\n",
    "\n",
    "print(re.findall(\"\\S+\", str))\n",
    "print(re.findall(\"\\S+$\", str))\n",
    "print(re.findall(\"^\\S+\", str))"
   ]
  },
  {
   "cell_type": "markdown",
   "metadata": {
    "pycharm": {
     "name": "#%% md\n"
    }
   },
   "source": [
    "#### 자! 이제부터 도전 과제로 넘어갑니다. \n",
    "자신의 skill이 어느 정도에 도달했는지 테스트해 볼 수 있는 기회입니다."
   ]
  },
  {
   "cell_type": "markdown",
   "metadata": {
    "pycharm": {
     "name": "#%% md\n"
    }
   },
   "source": [
    "#### 문제 1(difficulty=low). 아래 단어에서 모음은 모두 몇 개일까요?"
   ]
  },
  {
   "cell_type": "code",
   "execution_count": 15,
   "metadata": {
    "pycharm": {
     "name": "#%%\n"
    }
   },
   "outputs": [],
   "source": [
    "word = 'supercalifragilisticexpialidocious'"
   ]
  },
  {
   "cell_type": "code",
   "execution_count": 16,
   "metadata": {
    "pycharm": {
     "name": "#%%\n"
    }
   },
   "outputs": [
    {
     "name": "stdout",
     "output_type": "stream",
     "text": [
      "모음 개수:  16\n"
     ]
    }
   ],
   "source": [
    "# 힌트: 영어 알파벳의 모음은 5개입니다.\n",
    "print(\"모음 개수: \", len(re.findall(r\"[aeiou]\", word)))"
   ]
  },
  {
   "cell_type": "markdown",
   "metadata": {
    "pycharm": {
     "name": "#%% md\n"
    }
   },
   "source": [
    "#### 문제 2(difficulty=medium). 이메일 주소에서 사용자의 id만 추출하세요.\n",
    "- 하나의 정규표현을 사용해야 합니다.\n",
    "- id는 @기호 앞에 있는 부분문자열입니다."
   ]
  },
  {
   "cell_type": "code",
   "execution_count": 17,
   "metadata": {
    "pycharm": {
     "name": "#%%\n"
    }
   },
   "outputs": [
    {
     "name": "stdout",
     "output_type": "stream",
     "text": [
      "id =  yshong.cse.433\n",
      "id =  yshong-345%\n",
      "id =  yshong!6789\n",
      "id =  Hong.Youn.Sik\n"
     ]
    }
   ],
   "source": [
    "test1 = 'yshong.cse.433@inu.ac.kr'\n",
    "test2 = 'yshong-345%@gmail.com'\n",
    "test3 = 'yshong!6789@naver.com'\n",
    "test4 = 'Hong.Youn.Sik@most.go.kr'\n",
    "test = [test1, test2, test3, test4]\n",
    "\n",
    "# 패턴 p를  정의하세요\n",
    "# 힌트: @기호 앞의 id를 찾으려면 해당 패턴을 괄호로 묶어야 합니다.\n",
    "pattern = r\"([\\S]+)@\"\n",
    "\n",
    "for p in test:\n",
    "    m = re.search(pattern, p)\n",
    "    if m:\n",
    "        print('id = ', m.group(1)) \n",
    "    else:\n",
    "        print('Not found!') "
   ]
  },
  {
   "cell_type": "markdown",
   "metadata": {
    "pycharm": {
     "name": "#%% md\n"
    }
   },
   "source": [
    "#### 문제 3(difficulty=medium). 아래 url에서 년도(year), 월(month), 일(day)을 찾아 보세요."
   ]
  },
  {
   "cell_type": "code",
   "execution_count": 18,
   "metadata": {
    "pycharm": {
     "name": "#%%\n"
    }
   },
   "outputs": [
    {
     "data": {
      "text/plain": "'http://www.telegraph.co.uk/formula-1/2017/10/28/mexican-grand-prix-2017-time-does-start-tv-channel-odds-lewis1/2017/05/12/'"
     },
     "execution_count": 18,
     "metadata": {},
     "output_type": "execute_result"
    }
   ],
   "source": [
    "url= \"http://www.telegraph.co.uk/formula-1/2017/10/28/\"\\\n",
    "     \"mexican-grand-prix-2017-time-does-start-tv-channel-odds-lewis1/2017/05/12/\"\n",
    "url"
   ]
  },
  {
   "cell_type": "markdown",
   "metadata": {
    "pycharm": {
     "name": "#%% md\n"
    }
   },
   "source": [
    "- 먼저 년도(year)부터 찾아봅시다. \n",
    "    - 년도가 17이 아니라 2017, 이렇게 표현되어 있군요. 이게 년도의 패턴이겠죠. \n",
    "- 또 finditer() 메소드를 자주 사용하니까 함수로 만들어 놓는게 좋겠죠."
   ]
  },
  {
   "cell_type": "code",
   "execution_count": 19,
   "metadata": {
    "pycharm": {
     "name": "#%%\n"
    }
   },
   "outputs": [],
   "source": [
    "def extract_string(pattern, str):\n",
    "    for match in re.finditer(pattern, str):\n",
    "        s = match.start()\n",
    "        e = match.end()\n",
    "        print('Found \"%s\" at %d:%d' % (str[s:e], s, e))"
   ]
  },
  {
   "cell_type": "code",
   "execution_count": 20,
   "metadata": {
    "pycharm": {
     "name": "#%%\n"
    }
   },
   "outputs": [
    {
     "name": "stdout",
     "output_type": "stream",
     "text": [
      "Found \"2017\" at 37:41\n",
      "Found \"2017\" at 67:71\n",
      "Found \"2017\" at 111:115\n"
     ]
    }
   ],
   "source": [
    "re_year = r'\\d{4}'\n",
    "extract_string(re_year, url)"
   ]
  },
  {
   "cell_type": "markdown",
   "metadata": {
    "pycharm": {
     "name": "#%% md\n"
    }
   },
   "source": [
    "#### 힌트\n",
    "- 년도(year)와 월(month)은 2017/10, 2017/05와 같은 패턴입니다.\n",
    "- 년도, 월, 일이 함께 있는 문자열은 2017/10/28, 2017/05/12와 같은 패턴입니다.    "
   ]
  },
  {
   "cell_type": "code",
   "execution_count": 21,
   "metadata": {
    "pycharm": {
     "name": "#%%\n"
    }
   },
   "outputs": [
    {
     "name": "stdout",
     "output_type": "stream",
     "text": [
      "Found \"2017/10/28\" at 37:47\n",
      "Found \"2017/05/12\" at 111:121\n"
     ]
    }
   ],
   "source": [
    "# 문제 3: 당신의 능력을 보여주세요.\n",
    "# 패턴 re_fulldate를 정의하세요\n",
    "re_fulldate = r'\\d{4}/\\d{2}/\\d{2}'\n",
    "\n",
    "extract_string(re_fulldate, url)"
   ]
  },
  {
   "cell_type": "markdown",
   "metadata": {
    "pycharm": {
     "name": "#%% md\n"
    }
   },
   "source": [
    "Great! 여기까지 온 당신은 장애물을 모두 돌파할 수 있는 모든 준비를 다 갖췄습니다. 이제 Practices(2)(**정규표현(4).ipynb)** 에 준비된 difficulty level=high에 도전해 봅시다."
   ]
  }
 ],
 "metadata": {
  "kernelspec": {
   "display_name": "Python 3 (ipykernel)",
   "language": "python",
   "name": "python3"
  },
  "language_info": {
   "codemirror_mode": {
    "name": "ipython",
    "version": 3
   },
   "file_extension": ".py",
   "mimetype": "text/x-python",
   "name": "python",
   "nbconvert_exporter": "python",
   "pygments_lexer": "ipython3",
   "version": "3.9.7"
  }
 },
 "nbformat": 4,
 "nbformat_minor": 2
}