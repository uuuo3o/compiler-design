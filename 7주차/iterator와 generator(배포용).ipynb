{
 "cells": [
  {
   "cell_type": "markdown",
   "metadata": {
    "pycharm": {
     "name": "#%% md\n"
    }
   },
   "source": [
    "# iterator와 generator \n",
    "---\n",
    "All rights reserved, 2021-2023 By Youn-Sik Hong. 수업 목적으로만 활용 가능."
   ]
  },
  {
   "cell_type": "markdown",
   "metadata": {
    "pycharm": {
     "name": "#%% md\n"
    }
   },
   "source": [
    "### 이 2가지가 왜 필요한가요?\n",
    "- **iterator**\n",
    "    - 모든 루프 sequence에 대해 자원(resource)을 할당하지 않고 \n",
    "    - 현재 실행 중인 루프 index에 대해서만 자원을 할당.     \n",
    "    - 자원을 절약. 깔끔한(?) 코드.\n",
    "- **generator**\n",
    "    - 한 번에 하나만 처리. 메모리는 더 필요하지만, CPU는 효과적으로 활용. \n",
    "    - 코드 길이가 짧고 이해하기 쉬움. "
   ]
  },
  {
   "cell_type": "markdown",
   "metadata": {
    "pycharm": {
     "name": "#%% md\n"
    }
   },
   "source": [
    "## iterator 와 generator 의 차이점\n",
    "- 클래스 구현 \n",
    "    - iterator - **__iter__** 메소드와 **__next__** 메소드를 모두 구현. \n",
    "    - generator - **yield** 문을 반드시 포함(*return* 문은 없음)\n",
    "- 값 반환 형태\n",
    "    - iterator - **__next__** 메소드 안의 *return* 문에서 값을 반환. \n",
    "    - generator - **yield** 문에서 값을 반환.\n",
    "- 예외(exception) 발생\n",
    "    - iterator - **raise** 문에서 *StopIteration* 예외 발생. \n",
    "    - generator - 함수의 끝에 도달하면 *StopIteration* 예외가 자동 발생."
   ]
  },
  {
   "cell_type": "markdown",
   "metadata": {
    "pycharm": {
     "name": "#%% md\n"
    }
   },
   "source": [
    "## 반복 실행(**iterable**) 객체와 iterator\n",
    "- tupe, list, dictionary, set, 문자열(str) 등 여러 개 원소를 갖는 객체가 **iterable** 객체. \n",
    "    - 루프를 반복할 때마다 여러 원소 중에서 순서대로 하나를 선택해 뭔가를 실행할 수 있기 때문.\n",
    "- *iterator* 객체로 쉽게 변환 가능.\n",
    "    - **__iter__()** 와 **__next__()** 메소드를 갖고 있음. "
   ]
  },
  {
   "cell_type": "code",
   "execution_count": 1,
   "metadata": {
    "pycharm": {
     "name": "#%%\n"
    }
   },
   "outputs": [
    {
     "name": "stdout",
     "output_type": "stream",
     "text": [
      "<class 'set'>\n",
      "<class 'set_iterator'>\n"
     ]
    }
   ],
   "source": [
    "a_set = {1, 2, 3} #set 객체 --> iterable 객체\n",
    "print(type(a_set))\n",
    "\n",
    "b_iterator = a_set.__iter__() #iterator 객체로 변환\n",
    "#b_iterator = iter(a_set) \n",
    "print(type(b_iterator))"
   ]
  },
  {
   "cell_type": "code",
   "execution_count": 2,
   "metadata": {
    "pycharm": {
     "name": "#%%\n"
    }
   },
   "outputs": [
    {
     "name": "stdout",
     "output_type": "stream",
     "text": [
      "1 2 3 "
     ]
    }
   ],
   "source": [
    "for i in range(len(a_set)):\n",
    "    print(b_iterator.__next__(), end=' ')"
   ]
  },
  {
   "cell_type": "markdown",
   "metadata": {
    "pycharm": {
     "name": "#%% md\n"
    }
   },
   "source": [
    "b_iterator 객체가 마지막 원소까지 루프를 돌았기 때문에 재실행을 위해서는 초기화가 필요."
   ]
  },
  {
   "cell_type": "code",
   "execution_count": 3,
   "metadata": {
    "pycharm": {
     "name": "#%%\n"
    }
   },
   "outputs": [
    {
     "name": "stdout",
     "output_type": "stream",
     "text": [
      "1 2 3 "
     ]
    }
   ],
   "source": [
    "b_iterator = iter(a_set) \n",
    "for i in range(len(a_set)):\n",
    "    print(next(b_iterator), end=' ')"
   ]
  },
  {
   "cell_type": "markdown",
   "metadata": {
    "pycharm": {
     "name": "#%% md\n"
    }
   },
   "source": [
    "반복 실행이 가능한 객체인지 여부는 dir() 메소드를 사용해 확인할 수 있다.\n",
    "- dir() : 해당 객체의 속성(attribute) 리스트를 리턴.\n",
    "    - *iterator* 객체는 **__iter__** 와 **__next__** 를 모두 구현.\n",
    "        - 속성 리스트에 '__iter__'가 포함되어 있으면,\n",
    "        - 해당 객체는 반복 실행 가능한 객체."
   ]
  },
  {
   "cell_type": "code",
   "execution_count": 4,
   "metadata": {
    "pycharm": {
     "name": "#%%\n"
    }
   },
   "outputs": [
    {
     "name": "stdout",
     "output_type": "stream",
     "text": [
      "True\n",
      "True\n"
     ]
    }
   ],
   "source": [
    "print('__iter__' in dir(b_iterator))\n",
    "print('__next__' in dir(b_iterator))"
   ]
  },
  {
   "cell_type": "code",
   "execution_count": 5,
   "metadata": {
    "pycharm": {
     "name": "#%%\n"
    }
   },
   "outputs": [
    {
     "data": {
      "text/plain": "True"
     },
     "execution_count": 5,
     "metadata": {},
     "output_type": "execute_result"
    }
   ],
   "source": [
    "lis = ['a', 'b', 'c']\n",
    "'__iter__' in dir(lis)"
   ]
  },
  {
   "cell_type": "markdown",
   "metadata": {
    "pycharm": {
     "name": "#%% md\n"
    }
   },
   "source": [
    "### 직접 iterator 객체를 만들어 보자!\n",
    "- iterator 객체를 반환하는 __iter__() 메소드와 \n",
    "- 호출할 때마다 다음 원소를 전달하는 __next__() 메소드를 구현해야 함."
   ]
  },
  {
   "cell_type": "code",
   "execution_count": 6,
   "metadata": {
    "pycharm": {
     "name": "#%%\n"
    }
   },
   "outputs": [],
   "source": [
    "class MyIterator:\n",
    "    def __init__(self, begin, end):\n",
    "        self.current = 0 #0부터 시작\n",
    "        self.end = end    \n",
    " \n",
    "    def __iter__(self):\n",
    "        return self         \n",
    "    \n",
    "    def __next__(self):\n",
    "        if self.current+1 > self.end: # end 미포함\n",
    "            raise StopIteration  #exception 발생\n",
    "        else:\n",
    "            self.current += 1\n",
    "            return self.current - 1                        "
   ]
  },
  {
   "cell_type": "code",
   "execution_count": 7,
   "metadata": {
    "pycharm": {
     "name": "#%%\n"
    }
   },
   "outputs": [
    {
     "name": "stdout",
     "output_type": "stream",
     "text": [
      "0 1 2 3 4 5 6 7 8 9 "
     ]
    }
   ],
   "source": [
    "for i in MyIterator(0, 10):\n",
    "    print(i, end=' ')"
   ]
  },
  {
   "cell_type": "markdown",
   "metadata": {
    "pycharm": {
     "name": "#%% md\n"
    }
   },
   "source": [
    "## 2. generator   "
   ]
  },
  {
   "cell_type": "markdown",
   "metadata": {
    "pycharm": {
     "name": "#%% md\n"
    }
   },
   "source": [
    "### generator 메소드\n",
    "- **yield** 문을 포함. $\\to$ 키워드 *yield* 뒤에 값은 반환할 값.\n",
    "- *yield* 는 실행을 양보하고 (*next* 메소드를 호출할 때까지) 기다린다는 뜻."
   ]
  },
  {
   "cell_type": "code",
   "execution_count": 8,
   "metadata": {
    "pycharm": {
     "name": "#%%\n"
    }
   },
   "outputs": [],
   "source": [
    "def my_generator(cur, end):\n",
    "    while cur < end: #end 미포함\n",
    "        yield cur\n",
    "        cur += 1"
   ]
  },
  {
   "cell_type": "code",
   "execution_count": 9,
   "metadata": {
    "pycharm": {
     "name": "#%%\n"
    }
   },
   "outputs": [
    {
     "name": "stdout",
     "output_type": "stream",
     "text": [
      "1 2 3 4 5 6 7 8 9 "
     ]
    }
   ],
   "source": [
    "for num in my_generator(1,10):\n",
    "    print(num, end=' ')"
   ]
  },
  {
   "cell_type": "markdown",
   "metadata": {
    "pycharm": {
     "name": "#%% md\n"
    }
   },
   "source": [
    "- **generator** 객체의 **next** 메소드를 호출하면 \n",
    "    - *yield* 문까지 코드를 실행한 후 값을 생성(generate). \n",
    "    - 생성한 값을 **generator** 메소드 바깥으로 전달함과 동시에 실행을 잠시 멈춤. "
   ]
  },
  {
   "cell_type": "code",
   "execution_count": 10,
   "metadata": {
    "pycharm": {
     "name": "#%%\n"
    }
   },
   "outputs": [
    {
     "name": "stdout",
     "output_type": "stream",
     "text": [
      "<class 'generator'>\n"
     ]
    },
    {
     "data": {
      "text/plain": "1"
     },
     "execution_count": 10,
     "metadata": {},
     "output_type": "execute_result"
    }
   ],
   "source": [
    "g = my_generator(1,10)\n",
    "print(type(g))\n",
    "g.__next__()"
   ]
  },
  {
   "cell_type": "code",
   "execution_count": 11,
   "metadata": {
    "pycharm": {
     "name": "#%%\n"
    }
   },
   "outputs": [
    {
     "name": "stdout",
     "output_type": "stream",
     "text": [
      "2\n"
     ]
    }
   ],
   "source": [
    "print(next(g))\n",
    "#print(g.__next__())"
   ]
  },
  {
   "cell_type": "markdown",
   "metadata": {
    "pycharm": {
     "name": "#%% md\n"
    }
   },
   "source": [
    "### generator 표현식(expression)\n",
    "- **generator 표현식** 은 리스트를 생성하는 코딩 스타일의 형태. \n",
    "    - ( )(소괄호, parenthesis)로 묶은 형태. \n",
    "- **generator 표현식** 도 *generator 객체* 를 반환. "
   ]
  },
  {
   "cell_type": "code",
   "execution_count": 12,
   "metadata": {
    "pycharm": {
     "name": "#%%\n"
    }
   },
   "outputs": [
    {
     "name": "stdout",
     "output_type": "stream",
     "text": [
      "<class 'list'> [1, 4, 9, 16, 25, 36, 49, 64, 81]\n"
     ]
    }
   ],
   "source": [
    "squares = [x * x for x in range(1,10)] #리스트\n",
    "print(type(squares), squares)"
   ]
  },
  {
   "cell_type": "code",
   "execution_count": 13,
   "metadata": {
    "pycharm": {
     "name": "#%%\n"
    }
   },
   "outputs": [
    {
     "name": "stdout",
     "output_type": "stream",
     "text": [
      "<class 'generator'> <generator object <genexpr> at 0x000001E179F812F0>\n",
      "[1, 4, 9, 16, 25, 36, 49, 64, 81]\n"
     ]
    }
   ],
   "source": [
    "squares_g = (x * x for x in range(1,10)) #generator 표현식\n",
    "print(type(squares_g), squares_g)\n",
    "print(list(squares_g))"
   ]
  },
  {
   "cell_type": "markdown",
   "metadata": {
    "pycharm": {
     "name": "#%% md\n"
    }
   },
   "source": [
    "**itertools** 모듈: 파이썬에 내장되어 있는 **iterator 객체**를 생성하는 라이브러리"
   ]
  },
  {
   "cell_type": "code",
   "execution_count": 14,
   "metadata": {
    "pycharm": {
     "name": "#%%\n"
    }
   },
   "outputs": [
    {
     "name": "stdout",
     "output_type": "stream",
     "text": [
      "1 3 5 7 9 "
     ]
    }
   ],
   "source": [
    "from itertools import count\n",
    "\n",
    "odd_number = count(start=1, step=2) # 1, 3, 5, ...\n",
    "#even_number = count(start=0, step=2) # 0, 2, 4, ...\n",
    "\n",
    "k = next(odd_number)\n",
    "while (k <= 10):\n",
    "    print(k, end=' ')\n",
    "    k = next(odd_number)"
   ]
  },
  {
   "cell_type": "markdown",
   "metadata": {
    "pycharm": {
     "name": "#%% md\n"
    }
   },
   "source": [
    "- **itertools** 라이브러리에 **cycle** 모듈을 사용하여 간단한 응용 코드를 만들어보자. \n",
    "    - *cycle*은 단어 뜻 그대로 끝까지 가면 다시 처음으로 되돌아오는 **iterator 객체** 를 말함 \n",
    "    - 2023년도 프로야구 정규시즌 1위팀을 예측해 보자.\n",
    "        - 실행할 때마다 1위팀이 바뀜!\n",
    "        - 몇 개 팀이 빠졌지만 간단한 응용 예제일 뿐!!"
   ]
  },
  {
   "cell_type": "code",
   "execution_count": 15,
   "metadata": {
    "pycharm": {
     "name": "#%%\n"
    }
   },
   "outputs": [
    {
     "name": "stdout",
     "output_type": "stream",
     "text": [
      "Q. Which team will win the KBO series? A: SSG Landers\n"
     ]
    }
   ],
   "source": [
    "from itertools import cycle\n",
    "import random\n",
    "\n",
    "teams = cycle(['SSG Landers', 'LG Twins', 'Doosan Bears', 'Kiwoom Heroes'])\n",
    "lim = random.randint(0, 4)\n",
    "for i in range(lim):\n",
    "    tn = next(teams)\n",
    "    \n",
    "print('Q. Which team will win the KBO series? A: ' + tn)"
   ]
  }
 ],
 "metadata": {
  "kernelspec": {
   "display_name": "Python 3 (ipykernel)",
   "language": "python",
   "name": "python3"
  },
  "language_info": {
   "codemirror_mode": {
    "name": "ipython",
    "version": 3
   },
   "file_extension": ".py",
   "mimetype": "text/x-python",
   "name": "python",
   "nbconvert_exporter": "python",
   "pygments_lexer": "ipython3",
   "version": "3.9.7"
  }
 },
 "nbformat": 4,
 "nbformat_minor": 2
}