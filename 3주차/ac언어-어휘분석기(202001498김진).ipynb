{
 "cells": [
  {
   "cell_type": "markdown",
   "metadata": {
    "pycharm": {
     "name": "#%% md\n"
    }
   },
   "source": [
    "# ac(adding calculator) 어휘 분석기 "
   ]
  },
  {
   "cell_type": "markdown",
   "metadata": {
    "pycharm": {
     "name": "#%% md\n"
    }
   },
   "source": [
    "All rights reserved, 2021-2023. By Youn-Sik Hong. 수업 목적으로만 활용 가능."
   ]
  },
  {
   "cell_type": "markdown",
   "metadata": {
    "pycharm": {
     "name": "#%% md\n"
    }
   },
   "source": [
    "- 강의 노트 **ch2-1, ch2-2** 내용을 충분히 들여다 보기 바랍니다.\n",
    "- 구체적인 코드를 이해할 필요는 없습니다. 나무를 보려는 게 아니라 숲을 보려고 하기 때문이죠.\n",
    "    - Try to see the forest, not for the trees!\n",
    "- 컴파일러 전반부(front-end)의 구현 과정에 대한 감을 잡기위한 것입니다.\n",
    "    - nltk에서 제공하는 라이브러리를 사용하면 훨씬 간단하게 구현할 수 있습니다.\n",
    "    - 그런데, 그건 구현이 아니라 라이브러리 사용 방법을 익히는 것일 뿐입니다.\n",
    "    - 이 과목을 수강하지 않더라도 누구나 그 정도는 할 수 있습니다.\n",
    "- 여러분도 nltk에서 제공하는 라이브러리 정도는 직접 만들어, github에서 제공하고 싶지 않나요?"
   ]
  },
  {
   "cell_type": "code",
   "execution_count": 1,
   "metadata": {
    "pycharm": {
     "name": "#%%\n"
    }
   },
   "outputs": [],
   "source": [
    "class Token:\n",
    "    def __init__(self, typ, val):\n",
    "        self.type = typ\n",
    "        self.value = val  "
   ]
  },
  {
   "cell_type": "markdown",
   "metadata": {
    "pycharm": {
     "name": "#%% md\n"
    }
   },
   "source": [
    "토큰 *type*은 dictionary 객체로 정의할 수 있습니다."
   ]
  },
  {
   "cell_type": "code",
   "execution_count": 2,
   "metadata": {
    "pycharm": {
     "name": "#%%\n"
    }
   },
   "outputs": [],
   "source": [
    "TOKENS = {\n",
    "    'ID':0, 'FLTDCL':1, 'INTDCL':2, \n",
    "    'PRINT':3, 'ASSIGN':4, 'PLUS':5, \n",
    "    'MINUS':6, 'INUM':7, 'FNUM':8, \n",
    "    'EOF':9, 'ERROR':10\n",
    "}"
   ]
  },
  {
   "cell_type": "markdown",
   "metadata": {
    "pycharm": {
     "name": "#%% md\n"
    }
   },
   "source": [
    "- 이름(identifier)을 저장하기 위한 symbol table은 아래와 같이 만들 수 있습니다.\n",
    "    - **ac** 언어에서는 알파벳 26자 중 23개의 변수를 정의할 수 있습니다.\n",
    "    - *f, i, p*는 **keyword**이기 때문에 변수로 사용할 수 없습니다."
   ]
  },
  {
   "cell_type": "code",
   "execution_count": 3,
   "metadata": {
    "pycharm": {
     "name": "#%%\n"
    }
   },
   "outputs": [
    {
     "name": "stdout",
     "output_type": "stream",
     "text": [
      "<class 'str'>\n",
      "0\n",
      "None\n"
     ]
    }
   ],
   "source": [
    "import string\n",
    "\n",
    "alphabet = string.ascii_lowercase\n",
    "print(type(alphabet))\n",
    "\n",
    "symbol_table = {}  \n",
    "for i in range(len(alphabet)):\n",
    "    symbol_table[alphabet[i]] = 0\n",
    "\n",
    "symbol_table['f'] = symbol_table['i'] = symbol_table['p'] = None\n",
    "print(symbol_table['a'])\n",
    "print(symbol_table['f'])"
   ]
  },
  {
   "cell_type": "markdown",
   "metadata": {
    "pycharm": {
     "name": "#%% md\n"
    }
   },
   "source": [
    "ac 언어 구문에 맞는 문장을 *istream*에 할당하겠습니다."
   ]
  },
  {
   "cell_type": "code",
   "execution_count": 4,
   "metadata": {
    "pycharm": {
     "name": "#%%\n"
    }
   },
   "outputs": [
    {
     "name": "stdout",
     "output_type": "stream",
     "text": [
      "<class 'str'> 38\n"
     ]
    }
   ],
   "source": [
    "istream = \"f b   i a   a = 5   b = a + 3.2   p b \"\n",
    "print(type(istream), len(istream))"
   ]
  },
  {
   "cell_type": "markdown",
   "metadata": {
    "pycharm": {
     "name": "#%% md\n"
    }
   },
   "source": [
    "**peek()** 함수는 인덱스 *i*가 가리키는 문자 한 개를 읽어옵니다."
   ]
  },
  {
   "cell_type": "code",
   "execution_count": 5,
   "metadata": {
    "pycharm": {
     "name": "#%%\n"
    }
   },
   "outputs": [],
   "source": [
    "def peek(i):\n",
    "    return istream[i] "
   ]
  },
  {
   "cell_type": "markdown",
   "metadata": {
    "pycharm": {
     "name": "#%% md\n"
    }
   },
   "source": [
    "- **advance()** 함수는 인덱스 *i*를 한 칸 이동시켜, 다음 문자 한 개를 읽어옵니다.\n",
    "    - 배열의 범위를 벗어나지 않도록 if-문을 사용했습니다. \n",
    "        - 배열의 크기를 *length* 라고 하면, \n",
    "        - 배열은 인덱스 0부터 시작하기 때문에 마지막 인덱스는 (*length-1*) 입니다.\n",
    "    - 파이썬의 함수는 한 번에 2개 값을 반환할 수 있습니다."
   ]
  },
  {
   "cell_type": "code",
   "execution_count": 6,
   "metadata": {
    "pycharm": {
     "name": "#%%\n"
    }
   },
   "outputs": [],
   "source": [
    "def advance(i, lim):\n",
    "    i += 1\n",
    "    if (i < lim):\n",
    "        s = istream[i]  \n",
    "    else: \n",
    "        s = None\n",
    "    return i, s"
   ]
  },
  {
   "cell_type": "markdown",
   "metadata": {
    "pycharm": {
     "name": "#%% md\n"
    }
   },
   "source": [
    "- **ac** 언어에서 가장 찾기 힘든 token은 숫자입니다.\n",
    "    - 정수(INUM)인지 실수(FNUM)인지 구분하는 기준은 소숫점(\\.)입니다.\n",
    "- **ScanDigit()** 함수는 소숫점이 있으면 실수로 인식합니다. \n",
    "    - 패턴을 정의하는 정규표현을 사용하면 훨씬 다양한 형태의 실수를 인식할 수 있습니다.\n",
    "    - 아래 코드에서 문자(char)끼리 더해(concatenate) 문자열(str)을 만드는 것에 주목하기 바랍니다."
   ]
  },
  {
   "cell_type": "code",
   "execution_count": 7,
   "metadata": {
    "pycharm": {
     "name": "#%%\n"
    }
   },
   "outputs": [],
   "source": [
    "def ScanDigit(idx):\n",
    "    val = \"\"  #빈 문자열(str), 초기화.     \n",
    "    s = peek(idx)\n",
    "    limit = len(istream)\n",
    "           \n",
    "    while s.isdigit():\n",
    "        val += s\n",
    "        idx, s = advance(idx, limit)\n",
    "        if s == None:\n",
    "            return idx, Token('INUM', val)\n",
    "    \n",
    "    if (idx < limit and s != '.'):\n",
    "        type = 'INUM'\n",
    "    else:    \n",
    "        type = 'FNUM'\n",
    "        val += s     \n",
    "        idx, s = advance(idx, limit)     \n",
    "        if s == None:\n",
    "            return idx, Token(type, val)            \n",
    "        \n",
    "        while s.isdigit():\n",
    "            val += s  \n",
    "            idx, s = advance(idx, limit)                     \n",
    "            if s == None:\n",
    "                break   \n",
    "                    \n",
    "    return idx, Token(type, val)   "
   ]
  },
  {
   "cell_type": "markdown",
   "metadata": {
    "pycharm": {
     "name": "#%% md\n"
    }
   },
   "source": [
    "- 아래처럼 숫자 예를 만들어 제대로 동작하는지 확인해 보겠습니다.\n",
    "    - 마지막 007은 정수로 인식했지만 조금 이상하죠..."
   ]
  },
  {
   "cell_type": "code",
   "execution_count": 8,
   "metadata": {
    "pycharm": {
     "name": "#%%\n"
    }
   },
   "outputs": [
    {
     "name": "stdout",
     "output_type": "stream",
     "text": [
      "6 FNUM 32.572\n",
      "2 INUM 32\n",
      "3 INUM 007\n"
     ]
    }
   ],
   "source": [
    "test_digits = [\"32.572\", \"32\", \"007\"]\n",
    "\n",
    "for i in range(len(test_digits)):\n",
    "    istream = test_digits[i]\n",
    "    index, tok = ScanDigit(0)\n",
    "    print(index, tok.type, tok.value)"
   ]
  },
  {
   "cell_type": "markdown",
   "metadata": {
    "pycharm": {
     "name": "#%% md\n"
    }
   },
   "source": [
    "## Quiz 1\n",
    "- 숫자 예를 3개 이상 만들어서 테스트해 보세요."
   ]
  },
  {
   "cell_type": "code",
   "execution_count": 9,
   "outputs": [
    {
     "name": "stdout",
     "output_type": "stream",
     "text": [
      "0 INUM \n",
      "2 INUM 01\n",
      "5 FNUM 0.230\n"
     ]
    }
   ],
   "source": [
    "test_digits = [\"-32\", \"01\", \"0.230\"]\n",
    "\n",
    "for i in range(len(test_digits)):\n",
    "    istream = test_digits[i]\n",
    "    index, tok = ScanDigit(0)\n",
    "    print(index, tok.type, tok.value)"
   ],
   "metadata": {
    "collapsed": false,
    "pycharm": {
     "name": "#%%\n"
    }
   }
  },
  {
   "cell_type": "markdown",
   "source": [
    "- 음수를 입력했을 경우에는 제대로 동작하지 않음\n",
    "- 007 예시와 동일하게 01처럼 앞에 0이 붙은 정수의 경우 정수로 인식하지만 살짝 이상하게 인식함"
   ],
   "metadata": {
    "collapsed": false,
    "pycharm": {
     "name": "#%% md\n"
    }
   }
  },
  {
   "cell_type": "markdown",
   "metadata": {
    "pycharm": {
     "name": "#%% md\n"
    }
   },
   "source": [
    "영어 알파벳이 키워드 *f, i, p*인지 변수 이름(*a, b, c, ..., z*)인지 구분하는 함수를 만들겠습니다."
   ]
  },
  {
   "cell_type": "code",
   "execution_count": 10,
   "metadata": {
    "pycharm": {
     "name": "#%%\n"
    }
   },
   "outputs": [],
   "source": [
    "def representativeChar(c):\n",
    "    if c.isalpha():\n",
    "        if c not in ['f', 'i', 'p']:\n",
    "            return True\n",
    "    return False"
   ]
  },
  {
   "cell_type": "markdown",
   "metadata": {
    "pycharm": {
     "name": "#%% md\n"
    }
   },
   "source": [
    "- 이제 어휘분석기(**Scanner**)를 만들어 보겠습니다.\n",
    "    - 어휘분석기는 한 번 호출될 때마다 하나의 토큰을 찾습니다.\n",
    "    - **ac**언어에서 사용하는 기호는 의미가 미리 정해져 있습니다.\n",
    "        - 사실 숫자를 찾는 것을 제외하면 간단한 코드입니다.\n",
    "        - 파이썬에서는 *switch-case* 문이 없기 때문에 *if-elif-else* 문으로 작성했습니다."
   ]
  },
  {
   "cell_type": "code",
   "execution_count": 11,
   "metadata": {
    "pycharm": {
     "name": "#%%\n"
    }
   },
   "outputs": [],
   "source": [
    "def Scanner(idx):\n",
    "    limit = len(istream)  \n",
    "    val = \"\"    \n",
    "    ans = Token('EOF', None)\n",
    "    \n",
    "    if idx >= limit-1:\n",
    "        return idx, ans\n",
    "    \n",
    "    s = peek(idx)    \n",
    "    while s == ' ':\n",
    "        idx, s = advance(idx, limit)     \n",
    "    \n",
    "    if s != None:\n",
    "        if s.isdigit():\n",
    "            idx, ans = ScanDigit(idx)\n",
    "        else:\n",
    "            if representativeChar(s):\n",
    "                ans = Token('ID', s)            \n",
    "            elif s == 'f':\n",
    "                ans = Token('FLTDCL', None)\n",
    "            elif s == 'i':\n",
    "                ans = Token('INTDCL', None)\n",
    "            elif s == 'p':\n",
    "                ans = Token('PRINT', None)\n",
    "            elif s == '=':\n",
    "                ans = Token('ASSIGN', None)\n",
    "            elif s == '+':\n",
    "                ans = Token('PLUS', None)\n",
    "            elif s == '-':\n",
    "                ans = Token('MINUS', None)   \n",
    "            else:\n",
    "                ans = Token('ERROR', s)\n",
    "    \n",
    "    return idx, ans"
   ]
  },
  {
   "cell_type": "markdown",
   "metadata": {
    "pycharm": {
     "name": "#%% md\n"
    }
   },
   "source": [
    "- 이제 어휘분석기가 token을 제대로 가져오는지 확인해 보겠습니다.\n",
    "    - 문장 끝에 에러에 해당되는 문자를 넣어 error도 잘 찾는지도 테스트해 보겠습니다."
   ]
  },
  {
   "cell_type": "code",
   "execution_count": 12,
   "metadata": {
    "pycharm": {
     "name": "#%%\n"
    }
   },
   "outputs": [
    {
     "name": "stdout",
     "output_type": "stream",
     "text": [
      "0 FLTDCL None\n",
      "2 ID b\n",
      "6 INTDCL None\n",
      "8 ID a\n",
      "12 ID a\n",
      "14 ASSIGN None\n",
      "17 INUM 5\n",
      "20 ID b\n",
      "22 ASSIGN None\n",
      "24 ID a\n",
      "26 PLUS None\n",
      "31 FNUM 3.2\n",
      "34 PRINT None\n",
      "36 ID b\n",
      "ERROR >>> unexpected char ?\n"
     ]
    }
   ],
   "source": [
    "istream = \"f b   i a   a = 5   b = a + 3.2   p b ?\"\n",
    "limit = len(istream)\n",
    "index = 0\n",
    "\n",
    "while index < limit:\n",
    "    index, tok = Scanner(index)\n",
    "    if tok.type == 'ERROR':\n",
    "        print('ERROR >>> unexpected char', tok.value)\n",
    "        break\n",
    "        \n",
    "    print(index, tok.type, tok.value)\n",
    "    index, s = advance(index, limit)"
   ]
  }
 ],
 "metadata": {
  "kernelspec": {
   "display_name": "Python 3 (ipykernel)",
   "language": "python",
   "name": "python3"
  },
  "language_info": {
   "codemirror_mode": {
    "name": "ipython",
    "version": 3
   },
   "file_extension": ".py",
   "mimetype": "text/x-python",
   "name": "python",
   "nbconvert_exporter": "python",
   "pygments_lexer": "ipython3",
   "version": "3.9.7"
  }
 },
 "nbformat": 4,
 "nbformat_minor": 2
}